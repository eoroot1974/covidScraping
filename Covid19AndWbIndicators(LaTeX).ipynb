{
 "cells": [
  {
   "cell_type": "markdown",
   "metadata": {},
   "source": [
    "\\begin{titlepage}\n",
    "\\centering\n",
    "{\\bfseries\\LARGE Universidad Oberta de Catalunya \\par}\n",
    "\\vspace{1cm}\n",
    "{\\scshape\\Large Tipolog\\'ia y Ciclo de vida de los datos \\par}\n",
    "\\vspace{1cm}\n",
    "{\\itshape\\Large WebScrapping \\par}\n",
    "\\vspace{2cm}\n",
    "{\\scshape\\Huge Detecci\\'on de patrones existentes en diferentes indicadores con respecto a datos de la COVID-19 \\par}\n",
    "\\includegraphics[width=8cm]{covidLogo.png}\n",
    "\\includegraphics[width=8cm]{UOCLogo.jpg}\n",
    "\\vfill\n",
    "{\\Large Autores: \\par}\n",
    "{\\Large Enrique Otero Espinosa \\par}\n",
    "{\\Large Francisco Javier Melchor González \\par}\n",
    "\\vfill\n",
    "{\\Large 6 de Noviembre de 2020 \\par}\n",
    "\\end{titlepage}"
   ]
  },
  {
   "cell_type": "markdown",
   "metadata": {},
   "source": [
    "\\tableofcontents"
   ]
  },
  {
   "cell_type": "markdown",
   "metadata": {},
   "source": [
    "\\clearpage\n"
   ]
  },
  {
   "cell_type": "markdown",
   "metadata": {},
   "source": [
    "# Contexto"
   ]
  },
  {
   "cell_type": "markdown",
   "metadata": {},
   "source": [
    "El contexto con el que está enfocado esta práctica, es tratar de realizar un análisis sobre la relación existente entre diferentes indicadores de los diferentes países del mundo (así como la expectancia de vida, la fertilidad, acceso a la electricidad...) y el número de muertes causadas por la pandemia COVID-19 en los mismos. \n",
    "\n",
    "Para conseguir el fin descrito anteriormente, se han elegido dos fuentes de datos:\n",
    "- a) Por un lado, la **página https://www.worldometers.info/coronavirus/** que corresponde con la fuente de datos que proporciona información sobre la pandemia en los diferentes países, para obtener la información de la misma se ha utilizado la técnica de Web Scrapping \n",
    "- b) Por otro lado, la **librería wbdata**, que corresponde con la fuente de datos que proporciona información sobre los valores de los distintos indicadores de cada país. Dicha librería, realmente permite obtener información de la página del Banco Mundial de datos abiertos: https://databank.worldbank.org/home de una manera sencilla y parametrizada\n",
    "\n",
    "La razón por la que se han elegido estas fuentes es porque se consideran fuentes de datos fiables y además de uso público que incluso normalmente se publican con el fin de que se puedan realizar estudios de investigación sobre los mismos, por lo que resulta más sencillo que obtenerlo de páginas que realmente no los publican con este fin."
   ]
  },
  {
   "cell_type": "markdown",
   "metadata": {},
   "source": [
    "# Título del dataset"
   ]
  },
  {
   "cell_type": "markdown",
   "metadata": {},
   "source": [
    "Debido a que el dataset que se quiere conseguir fusiona información de la pandemia COVID-19 en los diferentes países y de los valores de los diferentes indicadores que se consideren a simple vista que pueden llegar a tener una relación con las muertes ocasionadas por la pandemia, el nombre que hemos elegido para el dataset que se va a generar es: **covid19AndWbIndicators**"
   ]
  },
  {
   "cell_type": "markdown",
   "metadata": {},
   "source": [
    "# Representación gráfica\n",
    "![RepGrafica](Covid_vs_WorldBankdata.jpeg)"
   ]
  },
  {
   "cell_type": "markdown",
   "metadata": {},
   "source": [
    "# Código"
   ]
  },
  {
   "cell_type": "code",
   "execution_count": 1,
   "metadata": {
    "scrolled": true
   },
   "outputs": [],
   "source": [
    "import wbdata\n",
    "import requests\n",
    "from bs4 import BeautifulSoup\n",
    "import pandas as pd\n",
    "import numpy as np\n",
    "import datetime\n",
    "import matplotlib.pyplot as plt\n",
    "from pylab import rcParams\n",
    "from sklearn.ensemble import ExtraTreesClassifier\n",
    "import statistics\n",
    "from geopy.geocoders import Nominatim\n",
    "import math\n",
    "import folium\n",
    "from folium.plugins import HeatMap\n",
    "from sklearn import preprocessing\n",
    "from sklearn.cluster import KMeans\n",
    "from sklearn import preprocessing\n",
    "from sklearn.cluster import KMeans\n",
    "import seaborn as sns\n"
   ]
  },
  {
   "cell_type": "markdown",
   "metadata": {},
   "source": [
    "## Extracción de datos"
   ]
  },
  {
   "cell_type": "code",
   "execution_count": 2,
   "metadata": {},
   "outputs": [],
   "source": [
    "url = 'https://www.worldometers.info/coronavirus/'\n",
    "requests.get(url)\n",
    "wdweb = requests.get(url)"
   ]
  },
  {
   "cell_type": "code",
   "execution_count": 3,
   "metadata": {},
   "outputs": [
    {
     "data": {
      "text/plain": [
       "<Response [200]>"
      ]
     },
     "execution_count": 3,
     "metadata": {},
     "output_type": "execute_result"
    }
   ],
   "source": [
    "wdweb"
   ]
  },
  {
   "cell_type": "code",
   "execution_count": 4,
   "metadata": {
    "scrolled": true
   },
   "outputs": [],
   "source": [
    "wdwebsoup = BeautifulSoup(wdweb.text, 'lxml')"
   ]
  },
  {
   "cell_type": "code",
   "execution_count": 5,
   "metadata": {},
   "outputs": [],
   "source": [
    "wdwebtable_data = wdwebsoup.find('table', id = 'main_table_countries_yesterday')"
   ]
  },
  {
   "cell_type": "code",
   "execution_count": 6,
   "metadata": {},
   "outputs": [],
   "source": [
    "headers = []\n",
    "for i in wdwebtable_data.find_all('th'):\n",
    "    title = i.text\n",
    "    headers.append(title)"
   ]
  },
  {
   "cell_type": "code",
   "execution_count": null,
   "metadata": {},
   "outputs": [],
   "source": []
  },
  {
   "cell_type": "code",
   "execution_count": 7,
   "metadata": {},
   "outputs": [],
   "source": [
    "covid = pd.DataFrame(columns = headers)"
   ]
  },
  {
   "cell_type": "code",
   "execution_count": 8,
   "metadata": {},
   "outputs": [],
   "source": [
    "for j in wdwebtable_data.find_all('tr')[1:]:\n",
    "        row_data = j.find_all('td')\n",
    "        row = [td.text for td in row_data]\n",
    "        length = len(covid)\n",
    "        covid.loc[length] = row"
   ]
  },
  {
   "cell_type": "code",
   "execution_count": 9,
   "metadata": {
    "scrolled": true
   },
   "outputs": [],
   "source": [
    "covid.columns = ['ID','country','TotalCases','NewCases','TotalDeaths','NewDeaths','TotalRecov','NewRecov','ActiveCases','SeriousCritical','TotalCases1M','TotalDeaths1M','TotalTests','TotalTests1M','Population','Continent','1CaseEvery','1DeathEvery','1TestEvery']\n",
    "covid.set_index('country', inplace=True, drop=True)"
   ]
  },
  {
   "cell_type": "code",
   "execution_count": 10,
   "metadata": {
    "scrolled": true
   },
   "outputs": [
    {
     "data": {
      "text/plain": [
       "(234, 18)"
      ]
     },
     "execution_count": 10,
     "metadata": {},
     "output_type": "execute_result"
    }
   ],
   "source": [
    "covid.shape"
   ]
  },
  {
   "cell_type": "code",
   "execution_count": 11,
   "metadata": {
    "scrolled": false
   },
   "outputs": [
    {
     "data": {
      "text/plain": [
       "Index(['\\nAsia\\n', '\\nNorth America\\n', '\\nSouth America\\n', '\\nEurope\\n',\n",
       "       '\\nAfrica\\n', '\\nOceania\\n', '\\n\\n', 'World', 'China', 'USA',\n",
       "       ...\n",
       "       'Marshall Islands', 'Wallis and Futuna', 'Total:', 'Total:', 'Total:',\n",
       "       'Total:', 'Total:', 'Total:', 'Total:', 'Total:'],\n",
       "      dtype='object', name='country', length=234)"
      ]
     },
     "execution_count": 11,
     "metadata": {},
     "output_type": "execute_result"
    }
   ],
   "source": [
    "covid.index\n"
   ]
  },
  {
   "cell_type": "code",
   "execution_count": 12,
   "metadata": {},
   "outputs": [],
   "source": [
    "pd.set_option('display.max_rows', None)\n",
    "covid.index=covid.index.str.replace(\"\\n\",\"\")\n",
    "covid=covid.rename(index={'USA': 'United States'})"
   ]
  },
  {
   "cell_type": "code",
   "execution_count": 13,
   "metadata": {
    "scrolled": true
   },
   "outputs": [],
   "source": [
    "data_date = datetime.datetime(2018, 12, 31), datetime.datetime(2018, 12, 31)\n",
    "# countries = [i['id'] for i in wbdata.get_country(incomelevel='HIC')]\n",
    "indicators = {\"EG.ELC.ACCS.ZS\":\"AccessElectricity\", \"NY.GDP.MKTP.CD\":\"GDP\", \n",
    "             \"NY.GDP.PCAP.CD\":\"GDPperCap\", \"SH.XPD.CHEX.PC.CD\":\"HealthExpenseperCap\", \n",
    "              \"IT.NET.USER.ZS\":\"IndividUsingInternet\", \"SP.DYN.LE00.IN\":\"LifeExpect\", \n",
    "              \"SH.MED.PHYS.ZS\":\"DrsPer1k\", \"GB.XPD.RSDV.GD.ZS\":\"RDExpen\", \n",
    "              \"SH.HIV.INCD\":\"NewInfecHIV\", \"SP.DYN.TFRT.IN\":\"FertilityRate\",\n",
    "             \"per_si_allsi.cov_pop_tot\":\"CovSocialInsurance\", \n",
    "             \"SP.URB.TOTL\":\"UrbanPopulation\", \"SP.URB.TOTL.IN.ZS\":\"UrbanPopulationPerc\"}\n",
    "wbdf = wbdata.get_dataframe(indicators, country=\"all\", data_date=data_date)"
   ]
  },
  {
   "cell_type": "code",
   "execution_count": 14,
   "metadata": {},
   "outputs": [],
   "source": [
    "covidandwb_merged = pd.merge(covid,wbdf, on=[\"country\"])"
   ]
  },
  {
   "cell_type": "code",
   "execution_count": 15,
   "metadata": {
    "scrolled": true
   },
   "outputs": [
    {
     "data": {
      "text/html": [
       "<div>\n",
       "<style scoped>\n",
       "    .dataframe tbody tr th:only-of-type {\n",
       "        vertical-align: middle;\n",
       "    }\n",
       "\n",
       "    .dataframe tbody tr th {\n",
       "        vertical-align: top;\n",
       "    }\n",
       "\n",
       "    .dataframe thead th {\n",
       "        text-align: right;\n",
       "    }\n",
       "</style>\n",
       "<table border=\"1\" class=\"dataframe\">\n",
       "  <thead>\n",
       "    <tr style=\"text-align: right;\">\n",
       "      <th></th>\n",
       "      <th>ID</th>\n",
       "      <th>TotalCases</th>\n",
       "      <th>NewCases</th>\n",
       "      <th>TotalDeaths</th>\n",
       "      <th>NewDeaths</th>\n",
       "      <th>TotalRecov</th>\n",
       "      <th>NewRecov</th>\n",
       "      <th>ActiveCases</th>\n",
       "      <th>SeriousCritical</th>\n",
       "      <th>TotalCases1M</th>\n",
       "      <th>...</th>\n",
       "      <th>HealthExpenseperCap</th>\n",
       "      <th>IndividUsingInternet</th>\n",
       "      <th>LifeExpect</th>\n",
       "      <th>DrsPer1k</th>\n",
       "      <th>RDExpen</th>\n",
       "      <th>NewInfecHIV</th>\n",
       "      <th>FertilityRate</th>\n",
       "      <th>CovSocialInsurance</th>\n",
       "      <th>UrbanPopulation</th>\n",
       "      <th>UrbanPopulationPerc</th>\n",
       "    </tr>\n",
       "    <tr>\n",
       "      <th>country</th>\n",
       "      <th></th>\n",
       "      <th></th>\n",
       "      <th></th>\n",
       "      <th></th>\n",
       "      <th></th>\n",
       "      <th></th>\n",
       "      <th></th>\n",
       "      <th></th>\n",
       "      <th></th>\n",
       "      <th></th>\n",
       "      <th></th>\n",
       "      <th></th>\n",
       "      <th></th>\n",
       "      <th></th>\n",
       "      <th></th>\n",
       "      <th></th>\n",
       "      <th></th>\n",
       "      <th></th>\n",
       "      <th></th>\n",
       "      <th></th>\n",
       "      <th></th>\n",
       "    </tr>\n",
       "  </thead>\n",
       "  <tbody>\n",
       "    <tr>\n",
       "      <th>North America</th>\n",
       "      <td></td>\n",
       "      <td>11,676,256</td>\n",
       "      <td>+120,709</td>\n",
       "      <td>357,960</td>\n",
       "      <td>+1,815</td>\n",
       "      <td>7,697,604</td>\n",
       "      <td>+67,890</td>\n",
       "      <td>3,620,692</td>\n",
       "      <td>21,731</td>\n",
       "      <td></td>\n",
       "      <td>...</td>\n",
       "      <td>None</td>\n",
       "      <td>88.498903</td>\n",
       "      <td>78.886891</td>\n",
       "      <td>NaN</td>\n",
       "      <td>2.739569</td>\n",
       "      <td>NaN</td>\n",
       "      <td>1.706032</td>\n",
       "      <td>NaN</td>\n",
       "      <td>2.989531e+08</td>\n",
       "      <td>82.173045</td>\n",
       "    </tr>\n",
       "    <tr>\n",
       "      <th>World</th>\n",
       "      <td></td>\n",
       "      <td>48,419,186</td>\n",
       "      <td>+574,691</td>\n",
       "      <td>1,230,109</td>\n",
       "      <td>+9,057</td>\n",
       "      <td>34,667,040</td>\n",
       "      <td>+320,758</td>\n",
       "      <td>12,522,037</td>\n",
       "      <td>89,292</td>\n",
       "      <td>6,212</td>\n",
       "      <td>...</td>\n",
       "      <td>None</td>\n",
       "      <td>NaN</td>\n",
       "      <td>72.563274</td>\n",
       "      <td>NaN</td>\n",
       "      <td>2.273640</td>\n",
       "      <td>1400000.0</td>\n",
       "      <td>2.414975</td>\n",
       "      <td>NaN</td>\n",
       "      <td>4.195080e+09</td>\n",
       "      <td>55.270426</td>\n",
       "    </tr>\n",
       "    <tr>\n",
       "      <th>China</th>\n",
       "      <td>1</td>\n",
       "      <td>86,087</td>\n",
       "      <td>+17</td>\n",
       "      <td>4,634</td>\n",
       "      <td></td>\n",
       "      <td>81,061</td>\n",
       "      <td>+16</td>\n",
       "      <td>392</td>\n",
       "      <td>9</td>\n",
       "      <td>60</td>\n",
       "      <td>...</td>\n",
       "      <td>None</td>\n",
       "      <td>NaN</td>\n",
       "      <td>76.704000</td>\n",
       "      <td>NaN</td>\n",
       "      <td>2.185680</td>\n",
       "      <td>NaN</td>\n",
       "      <td>1.690000</td>\n",
       "      <td>NaN</td>\n",
       "      <td>8.238276e+08</td>\n",
       "      <td>59.152000</td>\n",
       "    </tr>\n",
       "    <tr>\n",
       "      <th>United States</th>\n",
       "      <td>2</td>\n",
       "      <td>9,801,355</td>\n",
       "      <td>+108,389</td>\n",
       "      <td>239,829</td>\n",
       "      <td>+1,201</td>\n",
       "      <td>6,292,019</td>\n",
       "      <td>+55,849</td>\n",
       "      <td>3,269,507</td>\n",
       "      <td>18,045</td>\n",
       "      <td>29,551</td>\n",
       "      <td>...</td>\n",
       "      <td>None</td>\n",
       "      <td>88.498903</td>\n",
       "      <td>78.539024</td>\n",
       "      <td>NaN</td>\n",
       "      <td>2.837660</td>\n",
       "      <td>33000.0</td>\n",
       "      <td>1.729500</td>\n",
       "      <td>NaN</td>\n",
       "      <td>2.687201e+08</td>\n",
       "      <td>82.256000</td>\n",
       "    </tr>\n",
       "    <tr>\n",
       "      <th>India</th>\n",
       "      <td>3</td>\n",
       "      <td>8,363,412</td>\n",
       "      <td>+50,465</td>\n",
       "      <td>124,354</td>\n",
       "      <td>+704</td>\n",
       "      <td>7,710,630</td>\n",
       "      <td>+55,873</td>\n",
       "      <td>528,428</td>\n",
       "      <td>8,944</td>\n",
       "      <td>6,040</td>\n",
       "      <td>...</td>\n",
       "      <td>None</td>\n",
       "      <td>20.081300</td>\n",
       "      <td>69.416000</td>\n",
       "      <td>0.8571</td>\n",
       "      <td>0.649980</td>\n",
       "      <td>NaN</td>\n",
       "      <td>2.222000</td>\n",
       "      <td>NaN</td>\n",
       "      <td>4.602957e+08</td>\n",
       "      <td>34.030000</td>\n",
       "    </tr>\n",
       "  </tbody>\n",
       "</table>\n",
       "<p>5 rows × 31 columns</p>\n",
       "</div>"
      ],
      "text/plain": [
       "              ID  TotalCases  NewCases TotalDeaths NewDeaths  TotalRecov  \\\n",
       "country                                                                    \n",
       "North America     11,676,256  +120,709     357,960    +1,815   7,697,604   \n",
       "World             48,419,186  +574,691   1,230,109    +9,057  34,667,040   \n",
       "China          1      86,087       +17      4,634                 81,061   \n",
       "United States  2   9,801,355  +108,389    239,829     +1,201   6,292,019   \n",
       "India          3   8,363,412   +50,465    124,354       +704   7,710,630   \n",
       "\n",
       "               NewRecov ActiveCases SeriousCritical TotalCases1M  ...  \\\n",
       "country                                                           ...   \n",
       "North America   +67,890   3,620,692          21,731               ...   \n",
       "World          +320,758  12,522,037          89,292        6,212  ...   \n",
       "China               +16         392               9           60  ...   \n",
       "United States   +55,849   3,269,507          18,045       29,551  ...   \n",
       "India           +55,873     528,428           8,944        6,040  ...   \n",
       "\n",
       "              HealthExpenseperCap IndividUsingInternet LifeExpect DrsPer1k  \\\n",
       "country                                                                      \n",
       "North America                None            88.498903  78.886891      NaN   \n",
       "World                        None                  NaN  72.563274      NaN   \n",
       "China                        None                  NaN  76.704000      NaN   \n",
       "United States                None            88.498903  78.539024      NaN   \n",
       "India                        None            20.081300  69.416000   0.8571   \n",
       "\n",
       "                RDExpen NewInfecHIV FertilityRate CovSocialInsurance  \\\n",
       "country                                                                \n",
       "North America  2.739569         NaN      1.706032                NaN   \n",
       "World          2.273640   1400000.0      2.414975                NaN   \n",
       "China          2.185680         NaN      1.690000                NaN   \n",
       "United States  2.837660     33000.0      1.729500                NaN   \n",
       "India          0.649980         NaN      2.222000                NaN   \n",
       "\n",
       "               UrbanPopulation  UrbanPopulationPerc  \n",
       "country                                              \n",
       "North America     2.989531e+08            82.173045  \n",
       "World             4.195080e+09            55.270426  \n",
       "China             8.238276e+08            59.152000  \n",
       "United States     2.687201e+08            82.256000  \n",
       "India             4.602957e+08            34.030000  \n",
       "\n",
       "[5 rows x 31 columns]"
      ]
     },
     "execution_count": 15,
     "metadata": {},
     "output_type": "execute_result"
    }
   ],
   "source": [
    "covidandwb_merged.head()"
   ]
  },
  {
   "cell_type": "code",
   "execution_count": 16,
   "metadata": {
    "scrolled": false
   },
   "outputs": [
    {
     "data": {
      "text/plain": [
       "(172, 31)"
      ]
     },
     "execution_count": 16,
     "metadata": {},
     "output_type": "execute_result"
    }
   ],
   "source": [
    "covidandwb_merged.shape"
   ]
  },
  {
   "cell_type": "code",
   "execution_count": 17,
   "metadata": {
    "scrolled": false
   },
   "outputs": [],
   "source": [
    "covidandwb = covidandwb_merged"
   ]
  },
  {
   "cell_type": "markdown",
   "metadata": {},
   "source": [
    "## Procesamiento de los datos obtenidos"
   ]
  },
  {
   "cell_type": "code",
   "execution_count": 18,
   "metadata": {},
   "outputs": [],
   "source": [
    "covidandwb = covidandwb.drop([\"NewCases\", \"NewDeaths\", \"TotalRecov\", \"NewRecov\", \n",
    "                              \"ActiveCases\", \"SeriousCritical\"], axis=1)\n",
    "covidandwb = covidandwb.drop([\"World\"], axis=0)\n",
    "covidandwb = covidandwb.drop([\"North America\"], axis=0)"
   ]
  },
  {
   "cell_type": "code",
   "execution_count": 19,
   "metadata": {},
   "outputs": [
    {
     "data": {
      "text/html": [
       "<div>\n",
       "<style scoped>\n",
       "    .dataframe tbody tr th:only-of-type {\n",
       "        vertical-align: middle;\n",
       "    }\n",
       "\n",
       "    .dataframe tbody tr th {\n",
       "        vertical-align: top;\n",
       "    }\n",
       "\n",
       "    .dataframe thead th {\n",
       "        text-align: right;\n",
       "    }\n",
       "</style>\n",
       "<table border=\"1\" class=\"dataframe\">\n",
       "  <thead>\n",
       "    <tr style=\"text-align: right;\">\n",
       "      <th></th>\n",
       "      <th>ID</th>\n",
       "      <th>TotalCases</th>\n",
       "      <th>TotalDeaths</th>\n",
       "      <th>TotalCases1M</th>\n",
       "      <th>TotalDeaths1M</th>\n",
       "      <th>TotalTests</th>\n",
       "      <th>TotalTests1M</th>\n",
       "      <th>Population</th>\n",
       "      <th>Continent</th>\n",
       "      <th>1CaseEvery</th>\n",
       "      <th>...</th>\n",
       "      <th>HealthExpenseperCap</th>\n",
       "      <th>IndividUsingInternet</th>\n",
       "      <th>LifeExpect</th>\n",
       "      <th>DrsPer1k</th>\n",
       "      <th>RDExpen</th>\n",
       "      <th>NewInfecHIV</th>\n",
       "      <th>FertilityRate</th>\n",
       "      <th>CovSocialInsurance</th>\n",
       "      <th>UrbanPopulation</th>\n",
       "      <th>UrbanPopulationPerc</th>\n",
       "    </tr>\n",
       "    <tr>\n",
       "      <th>country</th>\n",
       "      <th></th>\n",
       "      <th></th>\n",
       "      <th></th>\n",
       "      <th></th>\n",
       "      <th></th>\n",
       "      <th></th>\n",
       "      <th></th>\n",
       "      <th></th>\n",
       "      <th></th>\n",
       "      <th></th>\n",
       "      <th></th>\n",
       "      <th></th>\n",
       "      <th></th>\n",
       "      <th></th>\n",
       "      <th></th>\n",
       "      <th></th>\n",
       "      <th></th>\n",
       "      <th></th>\n",
       "      <th></th>\n",
       "      <th></th>\n",
       "      <th></th>\n",
       "    </tr>\n",
       "  </thead>\n",
       "  <tbody>\n",
       "    <tr>\n",
       "      <th>China</th>\n",
       "      <td>1</td>\n",
       "      <td>86,087</td>\n",
       "      <td>4,634</td>\n",
       "      <td>60</td>\n",
       "      <td>3</td>\n",
       "      <td>160,000,000</td>\n",
       "      <td>111,163</td>\n",
       "      <td>1,439,323,776</td>\n",
       "      <td>Asia</td>\n",
       "      <td>16,719</td>\n",
       "      <td>...</td>\n",
       "      <td>None</td>\n",
       "      <td>NaN</td>\n",
       "      <td>76.704000</td>\n",
       "      <td>NaN</td>\n",
       "      <td>2.18568</td>\n",
       "      <td>NaN</td>\n",
       "      <td>1.6900</td>\n",
       "      <td>NaN</td>\n",
       "      <td>823827650.0</td>\n",
       "      <td>59.152</td>\n",
       "    </tr>\n",
       "    <tr>\n",
       "      <th>United States</th>\n",
       "      <td>2</td>\n",
       "      <td>9,801,355</td>\n",
       "      <td>239,829</td>\n",
       "      <td>29,551</td>\n",
       "      <td>723</td>\n",
       "      <td>152,050,414</td>\n",
       "      <td>458,433</td>\n",
       "      <td>331,674,530</td>\n",
       "      <td>North America</td>\n",
       "      <td>34</td>\n",
       "      <td>...</td>\n",
       "      <td>None</td>\n",
       "      <td>88.498903</td>\n",
       "      <td>78.539024</td>\n",
       "      <td>NaN</td>\n",
       "      <td>2.83766</td>\n",
       "      <td>33000.0</td>\n",
       "      <td>1.7295</td>\n",
       "      <td>NaN</td>\n",
       "      <td>268720071.0</td>\n",
       "      <td>82.256</td>\n",
       "    </tr>\n",
       "    <tr>\n",
       "      <th>India</th>\n",
       "      <td>3</td>\n",
       "      <td>8,363,412</td>\n",
       "      <td>124,354</td>\n",
       "      <td>6,040</td>\n",
       "      <td>90</td>\n",
       "      <td>112,998,959</td>\n",
       "      <td>81,607</td>\n",
       "      <td>1,384,678,624</td>\n",
       "      <td>Asia</td>\n",
       "      <td>166</td>\n",
       "      <td>...</td>\n",
       "      <td>None</td>\n",
       "      <td>20.081300</td>\n",
       "      <td>69.416000</td>\n",
       "      <td>0.8571</td>\n",
       "      <td>0.64998</td>\n",
       "      <td>NaN</td>\n",
       "      <td>2.2220</td>\n",
       "      <td>NaN</td>\n",
       "      <td>460295677.0</td>\n",
       "      <td>34.030</td>\n",
       "    </tr>\n",
       "    <tr>\n",
       "      <th>Brazil</th>\n",
       "      <td>4</td>\n",
       "      <td>5,590,941</td>\n",
       "      <td>161,170</td>\n",
       "      <td>26,238</td>\n",
       "      <td>756</td>\n",
       "      <td>21,900,000</td>\n",
       "      <td>102,777</td>\n",
       "      <td>213,081,672</td>\n",
       "      <td>South America</td>\n",
       "      <td>38</td>\n",
       "      <td>...</td>\n",
       "      <td>None</td>\n",
       "      <td>70.434283</td>\n",
       "      <td>75.672000</td>\n",
       "      <td>2.1643</td>\n",
       "      <td>NaN</td>\n",
       "      <td>NaN</td>\n",
       "      <td>1.7300</td>\n",
       "      <td>30.869548</td>\n",
       "      <td>181335507.0</td>\n",
       "      <td>86.569</td>\n",
       "    </tr>\n",
       "    <tr>\n",
       "      <th>France</th>\n",
       "      <td>6</td>\n",
       "      <td>1,543,321</td>\n",
       "      <td>38,674</td>\n",
       "      <td>23,626</td>\n",
       "      <td>592</td>\n",
       "      <td>16,819,377</td>\n",
       "      <td>257,477</td>\n",
       "      <td>65,323,720</td>\n",
       "      <td>Europe</td>\n",
       "      <td>42</td>\n",
       "      <td>...</td>\n",
       "      <td>None</td>\n",
       "      <td>82.043187</td>\n",
       "      <td>82.724390</td>\n",
       "      <td>3.2672</td>\n",
       "      <td>2.20002</td>\n",
       "      <td>NaN</td>\n",
       "      <td>1.8800</td>\n",
       "      <td>NaN</td>\n",
       "      <td>53870058.0</td>\n",
       "      <td>80.444</td>\n",
       "    </tr>\n",
       "  </tbody>\n",
       "</table>\n",
       "<p>5 rows × 25 columns</p>\n",
       "</div>"
      ],
      "text/plain": [
       "              ID TotalCases TotalDeaths TotalCases1M TotalDeaths1M  \\\n",
       "country                                                              \n",
       "China          1     86,087      4,634            60             3   \n",
       "United States  2  9,801,355    239,829        29,551           723   \n",
       "India          3  8,363,412    124,354         6,040            90   \n",
       "Brazil         4  5,590,941    161,170        26,238           756   \n",
       "France         6  1,543,321     38,674        23,626           592   \n",
       "\n",
       "                TotalTests TotalTests1M      Population      Continent  \\\n",
       "country                                                                  \n",
       "China          160,000,000      111,163  1,439,323,776            Asia   \n",
       "United States  152,050,414      458,433    331,674,530   North America   \n",
       "India          112,998,959       81,607  1,384,678,624            Asia   \n",
       "Brazil          21,900,000      102,777    213,081,672   South America   \n",
       "France          16,819,377      257,477     65,323,720          Europe   \n",
       "\n",
       "              1CaseEvery  ... HealthExpenseperCap IndividUsingInternet  \\\n",
       "country                   ...                                            \n",
       "China             16,719  ...                None                  NaN   \n",
       "United States         34  ...                None            88.498903   \n",
       "India                166  ...                None            20.081300   \n",
       "Brazil                38  ...                None            70.434283   \n",
       "France                42  ...                None            82.043187   \n",
       "\n",
       "               LifeExpect  DrsPer1k  RDExpen NewInfecHIV  FertilityRate  \\\n",
       "country                                                                   \n",
       "China           76.704000       NaN  2.18568         NaN         1.6900   \n",
       "United States   78.539024       NaN  2.83766     33000.0         1.7295   \n",
       "India           69.416000    0.8571  0.64998         NaN         2.2220   \n",
       "Brazil          75.672000    2.1643      NaN         NaN         1.7300   \n",
       "France          82.724390    3.2672  2.20002         NaN         1.8800   \n",
       "\n",
       "               CovSocialInsurance  UrbanPopulation  UrbanPopulationPerc  \n",
       "country                                                                  \n",
       "China                         NaN      823827650.0               59.152  \n",
       "United States                 NaN      268720071.0               82.256  \n",
       "India                         NaN      460295677.0               34.030  \n",
       "Brazil                  30.869548      181335507.0               86.569  \n",
       "France                        NaN       53870058.0               80.444  \n",
       "\n",
       "[5 rows x 25 columns]"
      ]
     },
     "execution_count": 19,
     "metadata": {},
     "output_type": "execute_result"
    }
   ],
   "source": [
    "covidandwb.head()"
   ]
  },
  {
   "cell_type": "code",
   "execution_count": 20,
   "metadata": {
    "scrolled": true
   },
   "outputs": [],
   "source": [
    "TotalDeathsindex = covidandwb[covidandwb['TotalDeaths'].str.match(' ')].index\n",
    "covidandwb.loc[TotalDeathsindex, 'TotalDeaths'] = 0\n",
    "covidandwb['TotalDeaths']=covidandwb['TotalDeaths'].str.replace(\",\",\"\").astype(float)\n",
    "covidandwb.loc[TotalDeathsindex, 'TotalDeaths1M'] = 0\n",
    "covidandwb['TotalDeaths1M']=covidandwb['TotalDeaths1M'].str.replace(\",\",\"\").astype(float)\n",
    "covidandwb['TotalCases1M']=covidandwb['TotalCases1M'].str.replace(\",\",\"\").astype(float)\n",
    "covidandwb['TotalCases']=covidandwb['TotalCases'].str.replace(\",\",\"\").astype(float)"
   ]
  },
  {
   "cell_type": "code",
   "execution_count": 21,
   "metadata": {},
   "outputs": [
    {
     "data": {
      "text/html": [
       "<div>\n",
       "<style scoped>\n",
       "    .dataframe tbody tr th:only-of-type {\n",
       "        vertical-align: middle;\n",
       "    }\n",
       "\n",
       "    .dataframe tbody tr th {\n",
       "        vertical-align: top;\n",
       "    }\n",
       "\n",
       "    .dataframe thead th {\n",
       "        text-align: right;\n",
       "    }\n",
       "</style>\n",
       "<table border=\"1\" class=\"dataframe\">\n",
       "  <thead>\n",
       "    <tr style=\"text-align: right;\">\n",
       "      <th></th>\n",
       "      <th>ID</th>\n",
       "      <th>TotalCases</th>\n",
       "      <th>TotalDeaths</th>\n",
       "      <th>TotalCases1M</th>\n",
       "      <th>TotalDeaths1M</th>\n",
       "      <th>TotalTests</th>\n",
       "      <th>TotalTests1M</th>\n",
       "      <th>Population</th>\n",
       "      <th>Continent</th>\n",
       "      <th>1CaseEvery</th>\n",
       "      <th>...</th>\n",
       "      <th>HealthExpenseperCap</th>\n",
       "      <th>IndividUsingInternet</th>\n",
       "      <th>LifeExpect</th>\n",
       "      <th>DrsPer1k</th>\n",
       "      <th>RDExpen</th>\n",
       "      <th>NewInfecHIV</th>\n",
       "      <th>FertilityRate</th>\n",
       "      <th>CovSocialInsurance</th>\n",
       "      <th>UrbanPopulation</th>\n",
       "      <th>UrbanPopulationPerc</th>\n",
       "    </tr>\n",
       "    <tr>\n",
       "      <th>country</th>\n",
       "      <th></th>\n",
       "      <th></th>\n",
       "      <th></th>\n",
       "      <th></th>\n",
       "      <th></th>\n",
       "      <th></th>\n",
       "      <th></th>\n",
       "      <th></th>\n",
       "      <th></th>\n",
       "      <th></th>\n",
       "      <th></th>\n",
       "      <th></th>\n",
       "      <th></th>\n",
       "      <th></th>\n",
       "      <th></th>\n",
       "      <th></th>\n",
       "      <th></th>\n",
       "      <th></th>\n",
       "      <th></th>\n",
       "      <th></th>\n",
       "      <th></th>\n",
       "    </tr>\n",
       "  </thead>\n",
       "  <tbody>\n",
       "    <tr>\n",
       "      <th>China</th>\n",
       "      <td>1</td>\n",
       "      <td>86087.0</td>\n",
       "      <td>4634.0</td>\n",
       "      <td>60.0</td>\n",
       "      <td>3.0</td>\n",
       "      <td>160,000,000</td>\n",
       "      <td>111,163</td>\n",
       "      <td>1,439,323,776</td>\n",
       "      <td>Asia</td>\n",
       "      <td>16,719</td>\n",
       "      <td>...</td>\n",
       "      <td>None</td>\n",
       "      <td>NaN</td>\n",
       "      <td>76.704000</td>\n",
       "      <td>NaN</td>\n",
       "      <td>2.18568</td>\n",
       "      <td>NaN</td>\n",
       "      <td>1.6900</td>\n",
       "      <td>NaN</td>\n",
       "      <td>823827650.0</td>\n",
       "      <td>59.152</td>\n",
       "    </tr>\n",
       "    <tr>\n",
       "      <th>United States</th>\n",
       "      <td>2</td>\n",
       "      <td>9801355.0</td>\n",
       "      <td>239829.0</td>\n",
       "      <td>29551.0</td>\n",
       "      <td>723.0</td>\n",
       "      <td>152,050,414</td>\n",
       "      <td>458,433</td>\n",
       "      <td>331,674,530</td>\n",
       "      <td>North America</td>\n",
       "      <td>34</td>\n",
       "      <td>...</td>\n",
       "      <td>None</td>\n",
       "      <td>88.498903</td>\n",
       "      <td>78.539024</td>\n",
       "      <td>NaN</td>\n",
       "      <td>2.83766</td>\n",
       "      <td>33000.0</td>\n",
       "      <td>1.7295</td>\n",
       "      <td>NaN</td>\n",
       "      <td>268720071.0</td>\n",
       "      <td>82.256</td>\n",
       "    </tr>\n",
       "    <tr>\n",
       "      <th>India</th>\n",
       "      <td>3</td>\n",
       "      <td>8363412.0</td>\n",
       "      <td>124354.0</td>\n",
       "      <td>6040.0</td>\n",
       "      <td>90.0</td>\n",
       "      <td>112,998,959</td>\n",
       "      <td>81,607</td>\n",
       "      <td>1,384,678,624</td>\n",
       "      <td>Asia</td>\n",
       "      <td>166</td>\n",
       "      <td>...</td>\n",
       "      <td>None</td>\n",
       "      <td>20.081300</td>\n",
       "      <td>69.416000</td>\n",
       "      <td>0.8571</td>\n",
       "      <td>0.64998</td>\n",
       "      <td>NaN</td>\n",
       "      <td>2.2220</td>\n",
       "      <td>NaN</td>\n",
       "      <td>460295677.0</td>\n",
       "      <td>34.030</td>\n",
       "    </tr>\n",
       "    <tr>\n",
       "      <th>Brazil</th>\n",
       "      <td>4</td>\n",
       "      <td>5590941.0</td>\n",
       "      <td>161170.0</td>\n",
       "      <td>26238.0</td>\n",
       "      <td>756.0</td>\n",
       "      <td>21,900,000</td>\n",
       "      <td>102,777</td>\n",
       "      <td>213,081,672</td>\n",
       "      <td>South America</td>\n",
       "      <td>38</td>\n",
       "      <td>...</td>\n",
       "      <td>None</td>\n",
       "      <td>70.434283</td>\n",
       "      <td>75.672000</td>\n",
       "      <td>2.1643</td>\n",
       "      <td>NaN</td>\n",
       "      <td>NaN</td>\n",
       "      <td>1.7300</td>\n",
       "      <td>30.869548</td>\n",
       "      <td>181335507.0</td>\n",
       "      <td>86.569</td>\n",
       "    </tr>\n",
       "    <tr>\n",
       "      <th>France</th>\n",
       "      <td>6</td>\n",
       "      <td>1543321.0</td>\n",
       "      <td>38674.0</td>\n",
       "      <td>23626.0</td>\n",
       "      <td>592.0</td>\n",
       "      <td>16,819,377</td>\n",
       "      <td>257,477</td>\n",
       "      <td>65,323,720</td>\n",
       "      <td>Europe</td>\n",
       "      <td>42</td>\n",
       "      <td>...</td>\n",
       "      <td>None</td>\n",
       "      <td>82.043187</td>\n",
       "      <td>82.724390</td>\n",
       "      <td>3.2672</td>\n",
       "      <td>2.20002</td>\n",
       "      <td>NaN</td>\n",
       "      <td>1.8800</td>\n",
       "      <td>NaN</td>\n",
       "      <td>53870058.0</td>\n",
       "      <td>80.444</td>\n",
       "    </tr>\n",
       "  </tbody>\n",
       "</table>\n",
       "<p>5 rows × 25 columns</p>\n",
       "</div>"
      ],
      "text/plain": [
       "              ID  TotalCases  TotalDeaths  TotalCases1M  TotalDeaths1M  \\\n",
       "country                                                                  \n",
       "China          1     86087.0       4634.0          60.0            3.0   \n",
       "United States  2   9801355.0     239829.0       29551.0          723.0   \n",
       "India          3   8363412.0     124354.0        6040.0           90.0   \n",
       "Brazil         4   5590941.0     161170.0       26238.0          756.0   \n",
       "France         6   1543321.0      38674.0       23626.0          592.0   \n",
       "\n",
       "                TotalTests TotalTests1M      Population      Continent  \\\n",
       "country                                                                  \n",
       "China          160,000,000      111,163  1,439,323,776            Asia   \n",
       "United States  152,050,414      458,433    331,674,530   North America   \n",
       "India          112,998,959       81,607  1,384,678,624            Asia   \n",
       "Brazil          21,900,000      102,777    213,081,672   South America   \n",
       "France          16,819,377      257,477     65,323,720          Europe   \n",
       "\n",
       "              1CaseEvery  ... HealthExpenseperCap IndividUsingInternet  \\\n",
       "country                   ...                                            \n",
       "China             16,719  ...                None                  NaN   \n",
       "United States         34  ...                None            88.498903   \n",
       "India                166  ...                None            20.081300   \n",
       "Brazil                38  ...                None            70.434283   \n",
       "France                42  ...                None            82.043187   \n",
       "\n",
       "               LifeExpect  DrsPer1k  RDExpen NewInfecHIV  FertilityRate  \\\n",
       "country                                                                   \n",
       "China           76.704000       NaN  2.18568         NaN         1.6900   \n",
       "United States   78.539024       NaN  2.83766     33000.0         1.7295   \n",
       "India           69.416000    0.8571  0.64998         NaN         2.2220   \n",
       "Brazil          75.672000    2.1643      NaN         NaN         1.7300   \n",
       "France          82.724390    3.2672  2.20002         NaN         1.8800   \n",
       "\n",
       "               CovSocialInsurance  UrbanPopulation  UrbanPopulationPerc  \n",
       "country                                                                  \n",
       "China                         NaN      823827650.0               59.152  \n",
       "United States                 NaN      268720071.0               82.256  \n",
       "India                         NaN      460295677.0               34.030  \n",
       "Brazil                  30.869548      181335507.0               86.569  \n",
       "France                        NaN       53870058.0               80.444  \n",
       "\n",
       "[5 rows x 25 columns]"
      ]
     },
     "execution_count": 21,
     "metadata": {},
     "output_type": "execute_result"
    }
   ],
   "source": [
    "covidandwb.head()"
   ]
  },
  {
   "cell_type": "code",
   "execution_count": 22,
   "metadata": {
    "scrolled": true
   },
   "outputs": [
    {
     "data": {
      "text/plain": [
       "ID                       object\n",
       "TotalCases              float64\n",
       "TotalDeaths             float64\n",
       "TotalCases1M            float64\n",
       "TotalDeaths1M           float64\n",
       "TotalTests               object\n",
       "TotalTests1M             object\n",
       "Population               object\n",
       "Continent                object\n",
       "1CaseEvery               object\n",
       "1DeathEvery              object\n",
       "1TestEvery               object\n",
       "AccessElectricity       float64\n",
       "GDP                     float64\n",
       "GDPperCap               float64\n",
       "HealthExpenseperCap      object\n",
       "IndividUsingInternet    float64\n",
       "LifeExpect              float64\n",
       "DrsPer1k                float64\n",
       "RDExpen                 float64\n",
       "NewInfecHIV             float64\n",
       "FertilityRate           float64\n",
       "CovSocialInsurance      float64\n",
       "UrbanPopulation         float64\n",
       "UrbanPopulationPerc     float64\n",
       "dtype: object"
      ]
     },
     "execution_count": 22,
     "metadata": {},
     "output_type": "execute_result"
    }
   ],
   "source": [
    "covidandwb.dtypes"
   ]
  },
  {
   "cell_type": "code",
   "execution_count": 23,
   "metadata": {},
   "outputs": [],
   "source": [
    "covidandwb['1DeathEvery']= covidandwb['1DeathEvery'].str.replace(\",\",\"\")\n",
    "covidandwb['1DeathEvery']=covidandwb['1DeathEvery'].str.replace(r'^\\s*$','NaN')\n",
    "covidandwb['1DeathEvery']=covidandwb['1DeathEvery'].astype(float)"
   ]
  },
  {
   "cell_type": "code",
   "execution_count": 24,
   "metadata": {
    "scrolled": true
   },
   "outputs": [],
   "source": [
    "covidandwb['TotalTests']= covidandwb['TotalTests'].str.replace(\",\",\"\")\n",
    "covidandwb['TotalTests']=covidandwb['TotalTests'].str.replace(r'^\\s*$','NaN')\n",
    "covidandwb['TotalTests']=covidandwb['TotalTests'].astype(float)"
   ]
  },
  {
   "cell_type": "code",
   "execution_count": 25,
   "metadata": {},
   "outputs": [],
   "source": [
    "covidandwb['TotalTests1M']= covidandwb['TotalTests1M'].str.replace(\",\",\"\")\n",
    "covidandwb['TotalTests1M']=covidandwb['TotalTests1M'].str.replace(r'^\\s*$','NaN')\n",
    "covidandwb['TotalTests1M']=covidandwb['TotalTests1M'].astype(float)"
   ]
  },
  {
   "cell_type": "code",
   "execution_count": 26,
   "metadata": {},
   "outputs": [],
   "source": [
    "covidandwb['Population']= covidandwb['Population'].str.replace(\",\",\"\")\n",
    "covidandwb['Population']=covidandwb['Population'].str.replace(r'^\\s*$','NaN')\n",
    "covidandwb['Population']=covidandwb['Population'].astype(float)"
   ]
  },
  {
   "cell_type": "code",
   "execution_count": 27,
   "metadata": {},
   "outputs": [],
   "source": [
    "covidandwb['1CaseEvery']= covidandwb['1CaseEvery'].str.replace(\",\",\"\")\n",
    "covidandwb['1CaseEvery']=covidandwb['1CaseEvery'].str.replace(r'^\\s*$','NaN')\n",
    "covidandwb['1CaseEvery']=covidandwb['1CaseEvery'].astype(float)"
   ]
  },
  {
   "cell_type": "code",
   "execution_count": 28,
   "metadata": {},
   "outputs": [],
   "source": [
    "covidandwb['HealthExpenseperCap']= covidandwb['HealthExpenseperCap'].str.replace(\",\",\"\")\n",
    "covidandwb['HealthExpenseperCap']=covidandwb['HealthExpenseperCap'].str.replace(r'^\\s*$','NaN')\n",
    "covidandwb['HealthExpenseperCap']=covidandwb['HealthExpenseperCap'].astype(float)"
   ]
  },
  {
   "cell_type": "code",
   "execution_count": 29,
   "metadata": {},
   "outputs": [],
   "source": [
    "covidandwb['1TestEvery']= covidandwb['1TestEvery'].str.replace(\",\",\"\")\n",
    "covidandwb['1TestEvery']=covidandwb['1TestEvery'].str.replace(r'^\\s*$','NaN')\n",
    "covidandwb['1TestEvery']=covidandwb['1TestEvery'].astype(float)"
   ]
  },
  {
   "cell_type": "code",
   "execution_count": 30,
   "metadata": {
    "scrolled": true
   },
   "outputs": [
    {
     "data": {
      "text/plain": [
       "ID                       object\n",
       "TotalCases              float64\n",
       "TotalDeaths             float64\n",
       "TotalCases1M            float64\n",
       "TotalDeaths1M           float64\n",
       "TotalTests              float64\n",
       "TotalTests1M            float64\n",
       "Population              float64\n",
       "Continent                object\n",
       "1CaseEvery              float64\n",
       "1DeathEvery             float64\n",
       "1TestEvery              float64\n",
       "AccessElectricity       float64\n",
       "GDP                     float64\n",
       "GDPperCap               float64\n",
       "HealthExpenseperCap     float64\n",
       "IndividUsingInternet    float64\n",
       "LifeExpect              float64\n",
       "DrsPer1k                float64\n",
       "RDExpen                 float64\n",
       "NewInfecHIV             float64\n",
       "FertilityRate           float64\n",
       "CovSocialInsurance      float64\n",
       "UrbanPopulation         float64\n",
       "UrbanPopulationPerc     float64\n",
       "dtype: object"
      ]
     },
     "execution_count": 30,
     "metadata": {},
     "output_type": "execute_result"
    }
   ],
   "source": [
    "covidandwb.dtypes"
   ]
  },
  {
   "cell_type": "code",
   "execution_count": 31,
   "metadata": {
    "scrolled": true
   },
   "outputs": [
    {
     "data": {
      "text/plain": [
       "(170, 25)"
      ]
     },
     "execution_count": 31,
     "metadata": {},
     "output_type": "execute_result"
    }
   ],
   "source": [
    "covidandwb.shape"
   ]
  },
  {
   "cell_type": "code",
   "execution_count": 32,
   "metadata": {},
   "outputs": [
    {
     "data": {
      "text/plain": [
       "ID                        0\n",
       "TotalCases                0\n",
       "TotalDeaths              13\n",
       "TotalCases1M              0\n",
       "TotalDeaths1M            13\n",
       "TotalTests               13\n",
       "TotalTests1M             13\n",
       "Population                0\n",
       "Continent                 0\n",
       "1CaseEvery                0\n",
       "1DeathEvery              13\n",
       "1TestEvery               13\n",
       "AccessElectricity         1\n",
       "GDP                      12\n",
       "GDPperCap                12\n",
       "HealthExpenseperCap     170\n",
       "IndividUsingInternet     97\n",
       "LifeExpect               10\n",
       "DrsPer1k                114\n",
       "RDExpen                 110\n",
       "NewInfecHIV              66\n",
       "FertilityRate             9\n",
       "CovSocialInsurance      164\n",
       "UrbanPopulation           1\n",
       "UrbanPopulationPerc       1\n",
       "dtype: int64"
      ]
     },
     "execution_count": 32,
     "metadata": {},
     "output_type": "execute_result"
    }
   ],
   "source": [
    "covidandwb.isnull().sum()"
   ]
  },
  {
   "cell_type": "code",
   "execution_count": 33,
   "metadata": {
    "scrolled": true
   },
   "outputs": [
    {
     "data": {
      "text/plain": [
       "Index(['ID', 'TotalCases', 'TotalDeaths', 'TotalCases1M', 'TotalDeaths1M',\n",
       "       'TotalTests', 'TotalTests1M', 'Population', 'Continent', '1CaseEvery',\n",
       "       '1DeathEvery', '1TestEvery', 'AccessElectricity', 'GDP', 'GDPperCap',\n",
       "       'HealthExpenseperCap', 'IndividUsingInternet', 'LifeExpect', 'DrsPer1k',\n",
       "       'RDExpen', 'NewInfecHIV', 'FertilityRate', 'CovSocialInsurance',\n",
       "       'UrbanPopulation', 'UrbanPopulationPerc'],\n",
       "      dtype='object')"
      ]
     },
     "execution_count": 33,
     "metadata": {},
     "output_type": "execute_result"
    }
   ],
   "source": [
    "covidandwb.columns"
   ]
  },
  {
   "cell_type": "markdown",
   "metadata": {},
   "source": [
    "Eliminamos:\n",
    "* **CovSocialInsurance**\n",
    "* **RDExpen**\n",
    "* **HealthExpenseperCap**\n",
    "* **IndividUsingInternet**\n",
    "\n",
    "Debido a que todas ellas cuentan con más de un 60% de datos nulos"
   ]
  },
  {
   "cell_type": "code",
   "execution_count": 34,
   "metadata": {},
   "outputs": [],
   "source": [
    "columns_acceptables = ['ID', 'TotalCases', 'TotalDeaths', 'TotalCases1M', 'TotalDeaths1M',\n",
    "       'TotalTests', 'TotalTests1M', 'Population', 'Continent', '1CaseEvery',\n",
    "       '1DeathEvery', '1TestEvery', 'AccessElectricity', 'GDP', 'GDPperCap', 'LifeExpect','DrsPer1k', 'NewInfecHIV', 'FertilityRate',\n",
    "       'UrbanPopulation', 'UrbanPopulationPerc']"
   ]
  },
  {
   "cell_type": "code",
   "execution_count": 35,
   "metadata": {},
   "outputs": [
    {
     "data": {
      "text/plain": [
       "ID                       0\n",
       "TotalCases               0\n",
       "TotalDeaths             13\n",
       "TotalCases1M             0\n",
       "TotalDeaths1M           13\n",
       "TotalTests              13\n",
       "TotalTests1M            13\n",
       "Population               0\n",
       "Continent                0\n",
       "1CaseEvery               0\n",
       "1DeathEvery             13\n",
       "1TestEvery              13\n",
       "AccessElectricity        1\n",
       "GDP                     12\n",
       "GDPperCap               12\n",
       "LifeExpect              10\n",
       "DrsPer1k               114\n",
       "NewInfecHIV             66\n",
       "FertilityRate            9\n",
       "UrbanPopulation          1\n",
       "UrbanPopulationPerc      1\n",
       "dtype: int64"
      ]
     },
     "execution_count": 35,
     "metadata": {},
     "output_type": "execute_result"
    }
   ],
   "source": [
    "covidandwb = covidandwb[columns_acceptables]\n",
    "covidandwb.isnull().sum()"
   ]
  },
  {
   "cell_type": "code",
   "execution_count": 36,
   "metadata": {},
   "outputs": [],
   "source": [
    "def imputationFunct(x, indexColumn):\n",
    "    if math.isnan(x.iloc[indexColumn]):\n",
    "        x.iloc[indexColumn] = statistics.median(covidandwb.loc[covidandwb['Continent'] == x.iloc[8]].iloc[:, indexColumn].dropna())\n",
    "    return x.iloc[indexColumn]"
   ]
  },
  {
   "cell_type": "code",
   "execution_count": 37,
   "metadata": {},
   "outputs": [],
   "source": [
    "columnsWithNaN = [2,4,5,6,10,11,12,13,14,15,16,17,18,19,20]"
   ]
  },
  {
   "cell_type": "markdown",
   "metadata": {},
   "source": [
    "### Imputation Data"
   ]
  },
  {
   "cell_type": "code",
   "execution_count": 38,
   "metadata": {
    "scrolled": true
   },
   "outputs": [],
   "source": [
    "for column in columnsWithNaN:\n",
    "    covidandwb.iloc[:,[column]] = covidandwb.apply(imputationFunct,axis=1,args=(column,))"
   ]
  },
  {
   "cell_type": "code",
   "execution_count": 39,
   "metadata": {
    "scrolled": true
   },
   "outputs": [
    {
     "data": {
      "text/plain": [
       "ID                     0\n",
       "TotalCases             0\n",
       "TotalDeaths            0\n",
       "TotalCases1M           0\n",
       "TotalDeaths1M          0\n",
       "TotalTests             0\n",
       "TotalTests1M           0\n",
       "Population             0\n",
       "Continent              0\n",
       "1CaseEvery             0\n",
       "1DeathEvery            0\n",
       "1TestEvery             0\n",
       "AccessElectricity      0\n",
       "GDP                    0\n",
       "GDPperCap              0\n",
       "LifeExpect             0\n",
       "DrsPer1k               0\n",
       "NewInfecHIV            0\n",
       "FertilityRate          0\n",
       "UrbanPopulation        0\n",
       "UrbanPopulationPerc    0\n",
       "dtype: int64"
      ]
     },
     "execution_count": 39,
     "metadata": {},
     "output_type": "execute_result"
    }
   ],
   "source": [
    "covidandwb.isnull().sum()"
   ]
  },
  {
   "cell_type": "code",
   "execution_count": 40,
   "metadata": {},
   "outputs": [
    {
     "data": {
      "text/html": [
       "<div>\n",
       "<style scoped>\n",
       "    .dataframe tbody tr th:only-of-type {\n",
       "        vertical-align: middle;\n",
       "    }\n",
       "\n",
       "    .dataframe tbody tr th {\n",
       "        vertical-align: top;\n",
       "    }\n",
       "\n",
       "    .dataframe thead th {\n",
       "        text-align: right;\n",
       "    }\n",
       "</style>\n",
       "<table border=\"1\" class=\"dataframe\">\n",
       "  <thead>\n",
       "    <tr style=\"text-align: right;\">\n",
       "      <th></th>\n",
       "      <th>ID</th>\n",
       "      <th>TotalCases</th>\n",
       "      <th>TotalDeaths</th>\n",
       "      <th>TotalCases1M</th>\n",
       "      <th>TotalDeaths1M</th>\n",
       "      <th>TotalTests</th>\n",
       "      <th>TotalTests1M</th>\n",
       "      <th>Population</th>\n",
       "      <th>Continent</th>\n",
       "      <th>1CaseEvery</th>\n",
       "      <th>...</th>\n",
       "      <th>1TestEvery</th>\n",
       "      <th>AccessElectricity</th>\n",
       "      <th>GDP</th>\n",
       "      <th>GDPperCap</th>\n",
       "      <th>LifeExpect</th>\n",
       "      <th>DrsPer1k</th>\n",
       "      <th>NewInfecHIV</th>\n",
       "      <th>FertilityRate</th>\n",
       "      <th>UrbanPopulation</th>\n",
       "      <th>UrbanPopulationPerc</th>\n",
       "    </tr>\n",
       "    <tr>\n",
       "      <th>country</th>\n",
       "      <th></th>\n",
       "      <th></th>\n",
       "      <th></th>\n",
       "      <th></th>\n",
       "      <th></th>\n",
       "      <th></th>\n",
       "      <th></th>\n",
       "      <th></th>\n",
       "      <th></th>\n",
       "      <th></th>\n",
       "      <th></th>\n",
       "      <th></th>\n",
       "      <th></th>\n",
       "      <th></th>\n",
       "      <th></th>\n",
       "      <th></th>\n",
       "      <th></th>\n",
       "      <th></th>\n",
       "      <th></th>\n",
       "      <th></th>\n",
       "      <th></th>\n",
       "    </tr>\n",
       "  </thead>\n",
       "  <tbody>\n",
       "    <tr>\n",
       "      <th>China</th>\n",
       "      <td>1</td>\n",
       "      <td>86087.0</td>\n",
       "      <td>4634.0</td>\n",
       "      <td>60.0</td>\n",
       "      <td>3.0</td>\n",
       "      <td>160000000.0</td>\n",
       "      <td>111163.0</td>\n",
       "      <td>1.439324e+09</td>\n",
       "      <td>Asia</td>\n",
       "      <td>16719.0</td>\n",
       "      <td>...</td>\n",
       "      <td>9.0</td>\n",
       "      <td>100.000000</td>\n",
       "      <td>1.389482e+13</td>\n",
       "      <td>9976.676822</td>\n",
       "      <td>76.704000</td>\n",
       "      <td>0.9186</td>\n",
       "      <td>1050.0</td>\n",
       "      <td>1.6900</td>\n",
       "      <td>823827650.0</td>\n",
       "      <td>59.152</td>\n",
       "    </tr>\n",
       "    <tr>\n",
       "      <th>United States</th>\n",
       "      <td>2</td>\n",
       "      <td>9801355.0</td>\n",
       "      <td>239829.0</td>\n",
       "      <td>29551.0</td>\n",
       "      <td>723.0</td>\n",
       "      <td>152050414.0</td>\n",
       "      <td>458433.0</td>\n",
       "      <td>3.316745e+08</td>\n",
       "      <td>North America</td>\n",
       "      <td>34.0</td>\n",
       "      <td>...</td>\n",
       "      <td>2.0</td>\n",
       "      <td>100.000000</td>\n",
       "      <td>2.052905e+13</td>\n",
       "      <td>62840.020239</td>\n",
       "      <td>78.539024</td>\n",
       "      <td>1.9357</td>\n",
       "      <td>33000.0</td>\n",
       "      <td>1.7295</td>\n",
       "      <td>268720071.0</td>\n",
       "      <td>82.256</td>\n",
       "    </tr>\n",
       "    <tr>\n",
       "      <th>India</th>\n",
       "      <td>3</td>\n",
       "      <td>8363412.0</td>\n",
       "      <td>124354.0</td>\n",
       "      <td>6040.0</td>\n",
       "      <td>90.0</td>\n",
       "      <td>112998959.0</td>\n",
       "      <td>81607.0</td>\n",
       "      <td>1.384679e+09</td>\n",
       "      <td>Asia</td>\n",
       "      <td>166.0</td>\n",
       "      <td>...</td>\n",
       "      <td>12.0</td>\n",
       "      <td>95.235855</td>\n",
       "      <td>2.713165e+12</td>\n",
       "      <td>2005.863005</td>\n",
       "      <td>69.416000</td>\n",
       "      <td>0.8571</td>\n",
       "      <td>1050.0</td>\n",
       "      <td>2.2220</td>\n",
       "      <td>460295677.0</td>\n",
       "      <td>34.030</td>\n",
       "    </tr>\n",
       "    <tr>\n",
       "      <th>Brazil</th>\n",
       "      <td>4</td>\n",
       "      <td>5590941.0</td>\n",
       "      <td>161170.0</td>\n",
       "      <td>26238.0</td>\n",
       "      <td>756.0</td>\n",
       "      <td>21900000.0</td>\n",
       "      <td>102777.0</td>\n",
       "      <td>2.130817e+08</td>\n",
       "      <td>South America</td>\n",
       "      <td>38.0</td>\n",
       "      <td>...</td>\n",
       "      <td>10.0</td>\n",
       "      <td>100.000000</td>\n",
       "      <td>1.885483e+12</td>\n",
       "      <td>9001.234249</td>\n",
       "      <td>75.672000</td>\n",
       "      <td>2.1643</td>\n",
       "      <td>2300.0</td>\n",
       "      <td>1.7300</td>\n",
       "      <td>181335507.0</td>\n",
       "      <td>86.569</td>\n",
       "    </tr>\n",
       "    <tr>\n",
       "      <th>France</th>\n",
       "      <td>6</td>\n",
       "      <td>1543321.0</td>\n",
       "      <td>38674.0</td>\n",
       "      <td>23626.0</td>\n",
       "      <td>592.0</td>\n",
       "      <td>16819377.0</td>\n",
       "      <td>257477.0</td>\n",
       "      <td>6.532372e+07</td>\n",
       "      <td>Europe</td>\n",
       "      <td>42.0</td>\n",
       "      <td>...</td>\n",
       "      <td>4.0</td>\n",
       "      <td>100.000000</td>\n",
       "      <td>2.787864e+12</td>\n",
       "      <td>41631.090739</td>\n",
       "      <td>82.724390</td>\n",
       "      <td>3.2672</td>\n",
       "      <td>500.0</td>\n",
       "      <td>1.8800</td>\n",
       "      <td>53870058.0</td>\n",
       "      <td>80.444</td>\n",
       "    </tr>\n",
       "  </tbody>\n",
       "</table>\n",
       "<p>5 rows × 21 columns</p>\n",
       "</div>"
      ],
      "text/plain": [
       "              ID  TotalCases  TotalDeaths  TotalCases1M  TotalDeaths1M  \\\n",
       "country                                                                  \n",
       "China          1     86087.0       4634.0          60.0            3.0   \n",
       "United States  2   9801355.0     239829.0       29551.0          723.0   \n",
       "India          3   8363412.0     124354.0        6040.0           90.0   \n",
       "Brazil         4   5590941.0     161170.0       26238.0          756.0   \n",
       "France         6   1543321.0      38674.0       23626.0          592.0   \n",
       "\n",
       "                TotalTests  TotalTests1M    Population      Continent  \\\n",
       "country                                                                 \n",
       "China          160000000.0      111163.0  1.439324e+09           Asia   \n",
       "United States  152050414.0      458433.0  3.316745e+08  North America   \n",
       "India          112998959.0       81607.0  1.384679e+09           Asia   \n",
       "Brazil          21900000.0      102777.0  2.130817e+08  South America   \n",
       "France          16819377.0      257477.0  6.532372e+07         Europe   \n",
       "\n",
       "               1CaseEvery  ...  1TestEvery  AccessElectricity           GDP  \\\n",
       "country                    ...                                                \n",
       "China             16719.0  ...         9.0         100.000000  1.389482e+13   \n",
       "United States        34.0  ...         2.0         100.000000  2.052905e+13   \n",
       "India               166.0  ...        12.0          95.235855  2.713165e+12   \n",
       "Brazil               38.0  ...        10.0         100.000000  1.885483e+12   \n",
       "France               42.0  ...         4.0         100.000000  2.787864e+12   \n",
       "\n",
       "                  GDPperCap  LifeExpect  DrsPer1k  NewInfecHIV  FertilityRate  \\\n",
       "country                                                                         \n",
       "China           9976.676822   76.704000    0.9186       1050.0         1.6900   \n",
       "United States  62840.020239   78.539024    1.9357      33000.0         1.7295   \n",
       "India           2005.863005   69.416000    0.8571       1050.0         2.2220   \n",
       "Brazil          9001.234249   75.672000    2.1643       2300.0         1.7300   \n",
       "France         41631.090739   82.724390    3.2672        500.0         1.8800   \n",
       "\n",
       "               UrbanPopulation  UrbanPopulationPerc  \n",
       "country                                              \n",
       "China              823827650.0               59.152  \n",
       "United States      268720071.0               82.256  \n",
       "India              460295677.0               34.030  \n",
       "Brazil             181335507.0               86.569  \n",
       "France              53870058.0               80.444  \n",
       "\n",
       "[5 rows x 21 columns]"
      ]
     },
     "execution_count": 40,
     "metadata": {},
     "output_type": "execute_result"
    }
   ],
   "source": [
    "covidandwb.head()"
   ]
  },
  {
   "cell_type": "code",
   "execution_count": 41,
   "metadata": {},
   "outputs": [],
   "source": [
    "geolocator = Nominatim(user_agent='myapplication')"
   ]
  },
  {
   "cell_type": "code",
   "execution_count": 42,
   "metadata": {},
   "outputs": [],
   "source": [
    "def getLatitude(x):\n",
    "    return geolocator.geocode(x[0]).latitude"
   ]
  },
  {
   "cell_type": "code",
   "execution_count": 43,
   "metadata": {},
   "outputs": [],
   "source": [
    "def getLongitude(x):\n",
    "    return geolocator.geocode(x[0]).longitude"
   ]
  },
  {
   "cell_type": "code",
   "execution_count": 44,
   "metadata": {},
   "outputs": [
    {
     "data": {
      "text/html": [
       "<div>\n",
       "<style scoped>\n",
       "    .dataframe tbody tr th:only-of-type {\n",
       "        vertical-align: middle;\n",
       "    }\n",
       "\n",
       "    .dataframe tbody tr th {\n",
       "        vertical-align: top;\n",
       "    }\n",
       "\n",
       "    .dataframe thead th {\n",
       "        text-align: right;\n",
       "    }\n",
       "</style>\n",
       "<table border=\"1\" class=\"dataframe\">\n",
       "  <thead>\n",
       "    <tr style=\"text-align: right;\">\n",
       "      <th></th>\n",
       "      <th>ID</th>\n",
       "      <th>TotalCases</th>\n",
       "      <th>TotalDeaths</th>\n",
       "      <th>TotalCases1M</th>\n",
       "      <th>TotalDeaths1M</th>\n",
       "      <th>TotalTests</th>\n",
       "      <th>TotalTests1M</th>\n",
       "      <th>Population</th>\n",
       "      <th>Continent</th>\n",
       "      <th>1CaseEvery</th>\n",
       "      <th>...</th>\n",
       "      <th>1TestEvery</th>\n",
       "      <th>AccessElectricity</th>\n",
       "      <th>GDP</th>\n",
       "      <th>GDPperCap</th>\n",
       "      <th>LifeExpect</th>\n",
       "      <th>DrsPer1k</th>\n",
       "      <th>NewInfecHIV</th>\n",
       "      <th>FertilityRate</th>\n",
       "      <th>UrbanPopulation</th>\n",
       "      <th>UrbanPopulationPerc</th>\n",
       "    </tr>\n",
       "    <tr>\n",
       "      <th>country</th>\n",
       "      <th></th>\n",
       "      <th></th>\n",
       "      <th></th>\n",
       "      <th></th>\n",
       "      <th></th>\n",
       "      <th></th>\n",
       "      <th></th>\n",
       "      <th></th>\n",
       "      <th></th>\n",
       "      <th></th>\n",
       "      <th></th>\n",
       "      <th></th>\n",
       "      <th></th>\n",
       "      <th></th>\n",
       "      <th></th>\n",
       "      <th></th>\n",
       "      <th></th>\n",
       "      <th></th>\n",
       "      <th></th>\n",
       "      <th></th>\n",
       "      <th></th>\n",
       "    </tr>\n",
       "  </thead>\n",
       "  <tbody>\n",
       "    <tr>\n",
       "      <th>China</th>\n",
       "      <td>1</td>\n",
       "      <td>86087.0</td>\n",
       "      <td>4634.0</td>\n",
       "      <td>60.0</td>\n",
       "      <td>3.0</td>\n",
       "      <td>160000000.0</td>\n",
       "      <td>111163.0</td>\n",
       "      <td>1.439324e+09</td>\n",
       "      <td>Asia</td>\n",
       "      <td>16719.0</td>\n",
       "      <td>...</td>\n",
       "      <td>9.0</td>\n",
       "      <td>100.000000</td>\n",
       "      <td>1.389482e+13</td>\n",
       "      <td>9976.676822</td>\n",
       "      <td>76.704000</td>\n",
       "      <td>0.9186</td>\n",
       "      <td>1050.0</td>\n",
       "      <td>1.6900</td>\n",
       "      <td>823827650.0</td>\n",
       "      <td>59.152</td>\n",
       "    </tr>\n",
       "    <tr>\n",
       "      <th>United States</th>\n",
       "      <td>2</td>\n",
       "      <td>9801355.0</td>\n",
       "      <td>239829.0</td>\n",
       "      <td>29551.0</td>\n",
       "      <td>723.0</td>\n",
       "      <td>152050414.0</td>\n",
       "      <td>458433.0</td>\n",
       "      <td>3.316745e+08</td>\n",
       "      <td>North America</td>\n",
       "      <td>34.0</td>\n",
       "      <td>...</td>\n",
       "      <td>2.0</td>\n",
       "      <td>100.000000</td>\n",
       "      <td>2.052905e+13</td>\n",
       "      <td>62840.020239</td>\n",
       "      <td>78.539024</td>\n",
       "      <td>1.9357</td>\n",
       "      <td>33000.0</td>\n",
       "      <td>1.7295</td>\n",
       "      <td>268720071.0</td>\n",
       "      <td>82.256</td>\n",
       "    </tr>\n",
       "    <tr>\n",
       "      <th>India</th>\n",
       "      <td>3</td>\n",
       "      <td>8363412.0</td>\n",
       "      <td>124354.0</td>\n",
       "      <td>6040.0</td>\n",
       "      <td>90.0</td>\n",
       "      <td>112998959.0</td>\n",
       "      <td>81607.0</td>\n",
       "      <td>1.384679e+09</td>\n",
       "      <td>Asia</td>\n",
       "      <td>166.0</td>\n",
       "      <td>...</td>\n",
       "      <td>12.0</td>\n",
       "      <td>95.235855</td>\n",
       "      <td>2.713165e+12</td>\n",
       "      <td>2005.863005</td>\n",
       "      <td>69.416000</td>\n",
       "      <td>0.8571</td>\n",
       "      <td>1050.0</td>\n",
       "      <td>2.2220</td>\n",
       "      <td>460295677.0</td>\n",
       "      <td>34.030</td>\n",
       "    </tr>\n",
       "    <tr>\n",
       "      <th>Brazil</th>\n",
       "      <td>4</td>\n",
       "      <td>5590941.0</td>\n",
       "      <td>161170.0</td>\n",
       "      <td>26238.0</td>\n",
       "      <td>756.0</td>\n",
       "      <td>21900000.0</td>\n",
       "      <td>102777.0</td>\n",
       "      <td>2.130817e+08</td>\n",
       "      <td>South America</td>\n",
       "      <td>38.0</td>\n",
       "      <td>...</td>\n",
       "      <td>10.0</td>\n",
       "      <td>100.000000</td>\n",
       "      <td>1.885483e+12</td>\n",
       "      <td>9001.234249</td>\n",
       "      <td>75.672000</td>\n",
       "      <td>2.1643</td>\n",
       "      <td>2300.0</td>\n",
       "      <td>1.7300</td>\n",
       "      <td>181335507.0</td>\n",
       "      <td>86.569</td>\n",
       "    </tr>\n",
       "    <tr>\n",
       "      <th>France</th>\n",
       "      <td>6</td>\n",
       "      <td>1543321.0</td>\n",
       "      <td>38674.0</td>\n",
       "      <td>23626.0</td>\n",
       "      <td>592.0</td>\n",
       "      <td>16819377.0</td>\n",
       "      <td>257477.0</td>\n",
       "      <td>6.532372e+07</td>\n",
       "      <td>Europe</td>\n",
       "      <td>42.0</td>\n",
       "      <td>...</td>\n",
       "      <td>4.0</td>\n",
       "      <td>100.000000</td>\n",
       "      <td>2.787864e+12</td>\n",
       "      <td>41631.090739</td>\n",
       "      <td>82.724390</td>\n",
       "      <td>3.2672</td>\n",
       "      <td>500.0</td>\n",
       "      <td>1.8800</td>\n",
       "      <td>53870058.0</td>\n",
       "      <td>80.444</td>\n",
       "    </tr>\n",
       "  </tbody>\n",
       "</table>\n",
       "<p>5 rows × 21 columns</p>\n",
       "</div>"
      ],
      "text/plain": [
       "              ID  TotalCases  TotalDeaths  TotalCases1M  TotalDeaths1M  \\\n",
       "country                                                                  \n",
       "China          1     86087.0       4634.0          60.0            3.0   \n",
       "United States  2   9801355.0     239829.0       29551.0          723.0   \n",
       "India          3   8363412.0     124354.0        6040.0           90.0   \n",
       "Brazil         4   5590941.0     161170.0       26238.0          756.0   \n",
       "France         6   1543321.0      38674.0       23626.0          592.0   \n",
       "\n",
       "                TotalTests  TotalTests1M    Population      Continent  \\\n",
       "country                                                                 \n",
       "China          160000000.0      111163.0  1.439324e+09           Asia   \n",
       "United States  152050414.0      458433.0  3.316745e+08  North America   \n",
       "India          112998959.0       81607.0  1.384679e+09           Asia   \n",
       "Brazil          21900000.0      102777.0  2.130817e+08  South America   \n",
       "France          16819377.0      257477.0  6.532372e+07         Europe   \n",
       "\n",
       "               1CaseEvery  ...  1TestEvery  AccessElectricity           GDP  \\\n",
       "country                    ...                                                \n",
       "China             16719.0  ...         9.0         100.000000  1.389482e+13   \n",
       "United States        34.0  ...         2.0         100.000000  2.052905e+13   \n",
       "India               166.0  ...        12.0          95.235855  2.713165e+12   \n",
       "Brazil               38.0  ...        10.0         100.000000  1.885483e+12   \n",
       "France               42.0  ...         4.0         100.000000  2.787864e+12   \n",
       "\n",
       "                  GDPperCap  LifeExpect  DrsPer1k  NewInfecHIV  FertilityRate  \\\n",
       "country                                                                         \n",
       "China           9976.676822   76.704000    0.9186       1050.0         1.6900   \n",
       "United States  62840.020239   78.539024    1.9357      33000.0         1.7295   \n",
       "India           2005.863005   69.416000    0.8571       1050.0         2.2220   \n",
       "Brazil          9001.234249   75.672000    2.1643       2300.0         1.7300   \n",
       "France         41631.090739   82.724390    3.2672        500.0         1.8800   \n",
       "\n",
       "               UrbanPopulation  UrbanPopulationPerc  \n",
       "country                                              \n",
       "China              823827650.0               59.152  \n",
       "United States      268720071.0               82.256  \n",
       "India              460295677.0               34.030  \n",
       "Brazil             181335507.0               86.569  \n",
       "France              53870058.0               80.444  \n",
       "\n",
       "[5 rows x 21 columns]"
      ]
     },
     "execution_count": 44,
     "metadata": {},
     "output_type": "execute_result"
    }
   ],
   "source": [
    "covidandwb.head()"
   ]
  },
  {
   "cell_type": "code",
   "execution_count": 45,
   "metadata": {},
   "outputs": [
    {
     "data": {
      "text/html": [
       "<div>\n",
       "<style scoped>\n",
       "    .dataframe tbody tr th:only-of-type {\n",
       "        vertical-align: middle;\n",
       "    }\n",
       "\n",
       "    .dataframe tbody tr th {\n",
       "        vertical-align: top;\n",
       "    }\n",
       "\n",
       "    .dataframe thead th {\n",
       "        text-align: right;\n",
       "    }\n",
       "</style>\n",
       "<table border=\"1\" class=\"dataframe\">\n",
       "  <thead>\n",
       "    <tr style=\"text-align: right;\">\n",
       "      <th></th>\n",
       "      <th>country</th>\n",
       "      <th>ID</th>\n",
       "      <th>TotalCases</th>\n",
       "      <th>TotalDeaths</th>\n",
       "      <th>TotalCases1M</th>\n",
       "      <th>TotalDeaths1M</th>\n",
       "      <th>TotalTests</th>\n",
       "      <th>TotalTests1M</th>\n",
       "      <th>Population</th>\n",
       "      <th>Continent</th>\n",
       "      <th>...</th>\n",
       "      <th>1TestEvery</th>\n",
       "      <th>AccessElectricity</th>\n",
       "      <th>GDP</th>\n",
       "      <th>GDPperCap</th>\n",
       "      <th>LifeExpect</th>\n",
       "      <th>DrsPer1k</th>\n",
       "      <th>NewInfecHIV</th>\n",
       "      <th>FertilityRate</th>\n",
       "      <th>UrbanPopulation</th>\n",
       "      <th>UrbanPopulationPerc</th>\n",
       "    </tr>\n",
       "  </thead>\n",
       "  <tbody>\n",
       "    <tr>\n",
       "      <th>0</th>\n",
       "      <td>China</td>\n",
       "      <td>1</td>\n",
       "      <td>86087.0</td>\n",
       "      <td>4634.0</td>\n",
       "      <td>60.0</td>\n",
       "      <td>3.0</td>\n",
       "      <td>160000000.0</td>\n",
       "      <td>111163.0</td>\n",
       "      <td>1.439324e+09</td>\n",
       "      <td>Asia</td>\n",
       "      <td>...</td>\n",
       "      <td>9.0</td>\n",
       "      <td>100.000000</td>\n",
       "      <td>1.389482e+13</td>\n",
       "      <td>9976.676822</td>\n",
       "      <td>76.704000</td>\n",
       "      <td>0.9186</td>\n",
       "      <td>1050.0</td>\n",
       "      <td>1.6900</td>\n",
       "      <td>823827650.0</td>\n",
       "      <td>59.152</td>\n",
       "    </tr>\n",
       "    <tr>\n",
       "      <th>1</th>\n",
       "      <td>United States</td>\n",
       "      <td>2</td>\n",
       "      <td>9801355.0</td>\n",
       "      <td>239829.0</td>\n",
       "      <td>29551.0</td>\n",
       "      <td>723.0</td>\n",
       "      <td>152050414.0</td>\n",
       "      <td>458433.0</td>\n",
       "      <td>3.316745e+08</td>\n",
       "      <td>North America</td>\n",
       "      <td>...</td>\n",
       "      <td>2.0</td>\n",
       "      <td>100.000000</td>\n",
       "      <td>2.052905e+13</td>\n",
       "      <td>62840.020239</td>\n",
       "      <td>78.539024</td>\n",
       "      <td>1.9357</td>\n",
       "      <td>33000.0</td>\n",
       "      <td>1.7295</td>\n",
       "      <td>268720071.0</td>\n",
       "      <td>82.256</td>\n",
       "    </tr>\n",
       "    <tr>\n",
       "      <th>2</th>\n",
       "      <td>India</td>\n",
       "      <td>3</td>\n",
       "      <td>8363412.0</td>\n",
       "      <td>124354.0</td>\n",
       "      <td>6040.0</td>\n",
       "      <td>90.0</td>\n",
       "      <td>112998959.0</td>\n",
       "      <td>81607.0</td>\n",
       "      <td>1.384679e+09</td>\n",
       "      <td>Asia</td>\n",
       "      <td>...</td>\n",
       "      <td>12.0</td>\n",
       "      <td>95.235855</td>\n",
       "      <td>2.713165e+12</td>\n",
       "      <td>2005.863005</td>\n",
       "      <td>69.416000</td>\n",
       "      <td>0.8571</td>\n",
       "      <td>1050.0</td>\n",
       "      <td>2.2220</td>\n",
       "      <td>460295677.0</td>\n",
       "      <td>34.030</td>\n",
       "    </tr>\n",
       "    <tr>\n",
       "      <th>3</th>\n",
       "      <td>Brazil</td>\n",
       "      <td>4</td>\n",
       "      <td>5590941.0</td>\n",
       "      <td>161170.0</td>\n",
       "      <td>26238.0</td>\n",
       "      <td>756.0</td>\n",
       "      <td>21900000.0</td>\n",
       "      <td>102777.0</td>\n",
       "      <td>2.130817e+08</td>\n",
       "      <td>South America</td>\n",
       "      <td>...</td>\n",
       "      <td>10.0</td>\n",
       "      <td>100.000000</td>\n",
       "      <td>1.885483e+12</td>\n",
       "      <td>9001.234249</td>\n",
       "      <td>75.672000</td>\n",
       "      <td>2.1643</td>\n",
       "      <td>2300.0</td>\n",
       "      <td>1.7300</td>\n",
       "      <td>181335507.0</td>\n",
       "      <td>86.569</td>\n",
       "    </tr>\n",
       "    <tr>\n",
       "      <th>4</th>\n",
       "      <td>France</td>\n",
       "      <td>6</td>\n",
       "      <td>1543321.0</td>\n",
       "      <td>38674.0</td>\n",
       "      <td>23626.0</td>\n",
       "      <td>592.0</td>\n",
       "      <td>16819377.0</td>\n",
       "      <td>257477.0</td>\n",
       "      <td>6.532372e+07</td>\n",
       "      <td>Europe</td>\n",
       "      <td>...</td>\n",
       "      <td>4.0</td>\n",
       "      <td>100.000000</td>\n",
       "      <td>2.787864e+12</td>\n",
       "      <td>41631.090739</td>\n",
       "      <td>82.724390</td>\n",
       "      <td>3.2672</td>\n",
       "      <td>500.0</td>\n",
       "      <td>1.8800</td>\n",
       "      <td>53870058.0</td>\n",
       "      <td>80.444</td>\n",
       "    </tr>\n",
       "  </tbody>\n",
       "</table>\n",
       "<p>5 rows × 22 columns</p>\n",
       "</div>"
      ],
      "text/plain": [
       "         country ID  TotalCases  TotalDeaths  TotalCases1M  TotalDeaths1M  \\\n",
       "0          China  1     86087.0       4634.0          60.0            3.0   \n",
       "1  United States  2   9801355.0     239829.0       29551.0          723.0   \n",
       "2          India  3   8363412.0     124354.0        6040.0           90.0   \n",
       "3         Brazil  4   5590941.0     161170.0       26238.0          756.0   \n",
       "4         France  6   1543321.0      38674.0       23626.0          592.0   \n",
       "\n",
       "    TotalTests  TotalTests1M    Population      Continent  ...  1TestEvery  \\\n",
       "0  160000000.0      111163.0  1.439324e+09           Asia  ...         9.0   \n",
       "1  152050414.0      458433.0  3.316745e+08  North America  ...         2.0   \n",
       "2  112998959.0       81607.0  1.384679e+09           Asia  ...        12.0   \n",
       "3   21900000.0      102777.0  2.130817e+08  South America  ...        10.0   \n",
       "4   16819377.0      257477.0  6.532372e+07         Europe  ...         4.0   \n",
       "\n",
       "   AccessElectricity           GDP     GDPperCap  LifeExpect  DrsPer1k  \\\n",
       "0         100.000000  1.389482e+13   9976.676822   76.704000    0.9186   \n",
       "1         100.000000  2.052905e+13  62840.020239   78.539024    1.9357   \n",
       "2          95.235855  2.713165e+12   2005.863005   69.416000    0.8571   \n",
       "3         100.000000  1.885483e+12   9001.234249   75.672000    2.1643   \n",
       "4         100.000000  2.787864e+12  41631.090739   82.724390    3.2672   \n",
       "\n",
       "   NewInfecHIV  FertilityRate  UrbanPopulation  UrbanPopulationPerc  \n",
       "0       1050.0         1.6900      823827650.0               59.152  \n",
       "1      33000.0         1.7295      268720071.0               82.256  \n",
       "2       1050.0         2.2220      460295677.0               34.030  \n",
       "3       2300.0         1.7300      181335507.0               86.569  \n",
       "4        500.0         1.8800       53870058.0               80.444  \n",
       "\n",
       "[5 rows x 22 columns]"
      ]
     },
     "execution_count": 45,
     "metadata": {},
     "output_type": "execute_result"
    }
   ],
   "source": [
    "covidandwb = covidandwb.reset_index()\n",
    "covidandwb.head()"
   ]
  },
  {
   "cell_type": "code",
   "execution_count": 46,
   "metadata": {},
   "outputs": [],
   "source": [
    "covidandwb['Latitude'] = covidandwb.apply(getLatitude,axis=1)"
   ]
  },
  {
   "cell_type": "code",
   "execution_count": 47,
   "metadata": {},
   "outputs": [],
   "source": [
    "covidandwb['Longitude'] = covidandwb.apply(getLongitude,axis=1)"
   ]
  },
  {
   "cell_type": "code",
   "execution_count": 48,
   "metadata": {},
   "outputs": [
    {
     "data": {
      "text/html": [
       "<div>\n",
       "<style scoped>\n",
       "    .dataframe tbody tr th:only-of-type {\n",
       "        vertical-align: middle;\n",
       "    }\n",
       "\n",
       "    .dataframe tbody tr th {\n",
       "        vertical-align: top;\n",
       "    }\n",
       "\n",
       "    .dataframe thead th {\n",
       "        text-align: right;\n",
       "    }\n",
       "</style>\n",
       "<table border=\"1\" class=\"dataframe\">\n",
       "  <thead>\n",
       "    <tr style=\"text-align: right;\">\n",
       "      <th></th>\n",
       "      <th>country</th>\n",
       "      <th>ID</th>\n",
       "      <th>TotalCases</th>\n",
       "      <th>TotalDeaths</th>\n",
       "      <th>TotalCases1M</th>\n",
       "      <th>TotalDeaths1M</th>\n",
       "      <th>TotalTests</th>\n",
       "      <th>TotalTests1M</th>\n",
       "      <th>Population</th>\n",
       "      <th>Continent</th>\n",
       "      <th>...</th>\n",
       "      <th>GDP</th>\n",
       "      <th>GDPperCap</th>\n",
       "      <th>LifeExpect</th>\n",
       "      <th>DrsPer1k</th>\n",
       "      <th>NewInfecHIV</th>\n",
       "      <th>FertilityRate</th>\n",
       "      <th>UrbanPopulation</th>\n",
       "      <th>UrbanPopulationPerc</th>\n",
       "      <th>Latitude</th>\n",
       "      <th>Longitude</th>\n",
       "    </tr>\n",
       "  </thead>\n",
       "  <tbody>\n",
       "    <tr>\n",
       "      <th>0</th>\n",
       "      <td>China</td>\n",
       "      <td>1</td>\n",
       "      <td>86087.0</td>\n",
       "      <td>4634.0</td>\n",
       "      <td>60.0</td>\n",
       "      <td>3.0</td>\n",
       "      <td>160000000.0</td>\n",
       "      <td>111163.0</td>\n",
       "      <td>1.439324e+09</td>\n",
       "      <td>Asia</td>\n",
       "      <td>...</td>\n",
       "      <td>1.389482e+13</td>\n",
       "      <td>9976.676822</td>\n",
       "      <td>76.704000</td>\n",
       "      <td>0.9186</td>\n",
       "      <td>1050.0</td>\n",
       "      <td>1.6900</td>\n",
       "      <td>823827650.0</td>\n",
       "      <td>59.152</td>\n",
       "      <td>35.000074</td>\n",
       "      <td>104.999927</td>\n",
       "    </tr>\n",
       "    <tr>\n",
       "      <th>1</th>\n",
       "      <td>United States</td>\n",
       "      <td>2</td>\n",
       "      <td>9801355.0</td>\n",
       "      <td>239829.0</td>\n",
       "      <td>29551.0</td>\n",
       "      <td>723.0</td>\n",
       "      <td>152050414.0</td>\n",
       "      <td>458433.0</td>\n",
       "      <td>3.316745e+08</td>\n",
       "      <td>North America</td>\n",
       "      <td>...</td>\n",
       "      <td>2.052905e+13</td>\n",
       "      <td>62840.020239</td>\n",
       "      <td>78.539024</td>\n",
       "      <td>1.9357</td>\n",
       "      <td>33000.0</td>\n",
       "      <td>1.7295</td>\n",
       "      <td>268720071.0</td>\n",
       "      <td>82.256</td>\n",
       "      <td>39.783730</td>\n",
       "      <td>-100.445882</td>\n",
       "    </tr>\n",
       "    <tr>\n",
       "      <th>2</th>\n",
       "      <td>India</td>\n",
       "      <td>3</td>\n",
       "      <td>8363412.0</td>\n",
       "      <td>124354.0</td>\n",
       "      <td>6040.0</td>\n",
       "      <td>90.0</td>\n",
       "      <td>112998959.0</td>\n",
       "      <td>81607.0</td>\n",
       "      <td>1.384679e+09</td>\n",
       "      <td>Asia</td>\n",
       "      <td>...</td>\n",
       "      <td>2.713165e+12</td>\n",
       "      <td>2005.863005</td>\n",
       "      <td>69.416000</td>\n",
       "      <td>0.8571</td>\n",
       "      <td>1050.0</td>\n",
       "      <td>2.2220</td>\n",
       "      <td>460295677.0</td>\n",
       "      <td>34.030</td>\n",
       "      <td>22.351115</td>\n",
       "      <td>78.667743</td>\n",
       "    </tr>\n",
       "    <tr>\n",
       "      <th>3</th>\n",
       "      <td>Brazil</td>\n",
       "      <td>4</td>\n",
       "      <td>5590941.0</td>\n",
       "      <td>161170.0</td>\n",
       "      <td>26238.0</td>\n",
       "      <td>756.0</td>\n",
       "      <td>21900000.0</td>\n",
       "      <td>102777.0</td>\n",
       "      <td>2.130817e+08</td>\n",
       "      <td>South America</td>\n",
       "      <td>...</td>\n",
       "      <td>1.885483e+12</td>\n",
       "      <td>9001.234249</td>\n",
       "      <td>75.672000</td>\n",
       "      <td>2.1643</td>\n",
       "      <td>2300.0</td>\n",
       "      <td>1.7300</td>\n",
       "      <td>181335507.0</td>\n",
       "      <td>86.569</td>\n",
       "      <td>-10.333333</td>\n",
       "      <td>-53.200000</td>\n",
       "    </tr>\n",
       "    <tr>\n",
       "      <th>4</th>\n",
       "      <td>France</td>\n",
       "      <td>6</td>\n",
       "      <td>1543321.0</td>\n",
       "      <td>38674.0</td>\n",
       "      <td>23626.0</td>\n",
       "      <td>592.0</td>\n",
       "      <td>16819377.0</td>\n",
       "      <td>257477.0</td>\n",
       "      <td>6.532372e+07</td>\n",
       "      <td>Europe</td>\n",
       "      <td>...</td>\n",
       "      <td>2.787864e+12</td>\n",
       "      <td>41631.090739</td>\n",
       "      <td>82.724390</td>\n",
       "      <td>3.2672</td>\n",
       "      <td>500.0</td>\n",
       "      <td>1.8800</td>\n",
       "      <td>53870058.0</td>\n",
       "      <td>80.444</td>\n",
       "      <td>46.603354</td>\n",
       "      <td>1.888334</td>\n",
       "    </tr>\n",
       "  </tbody>\n",
       "</table>\n",
       "<p>5 rows × 24 columns</p>\n",
       "</div>"
      ],
      "text/plain": [
       "         country ID  TotalCases  TotalDeaths  TotalCases1M  TotalDeaths1M  \\\n",
       "0          China  1     86087.0       4634.0          60.0            3.0   \n",
       "1  United States  2   9801355.0     239829.0       29551.0          723.0   \n",
       "2          India  3   8363412.0     124354.0        6040.0           90.0   \n",
       "3         Brazil  4   5590941.0     161170.0       26238.0          756.0   \n",
       "4         France  6   1543321.0      38674.0       23626.0          592.0   \n",
       "\n",
       "    TotalTests  TotalTests1M    Population      Continent  ...           GDP  \\\n",
       "0  160000000.0      111163.0  1.439324e+09           Asia  ...  1.389482e+13   \n",
       "1  152050414.0      458433.0  3.316745e+08  North America  ...  2.052905e+13   \n",
       "2  112998959.0       81607.0  1.384679e+09           Asia  ...  2.713165e+12   \n",
       "3   21900000.0      102777.0  2.130817e+08  South America  ...  1.885483e+12   \n",
       "4   16819377.0      257477.0  6.532372e+07         Europe  ...  2.787864e+12   \n",
       "\n",
       "      GDPperCap  LifeExpect  DrsPer1k  NewInfecHIV  FertilityRate  \\\n",
       "0   9976.676822   76.704000    0.9186       1050.0         1.6900   \n",
       "1  62840.020239   78.539024    1.9357      33000.0         1.7295   \n",
       "2   2005.863005   69.416000    0.8571       1050.0         2.2220   \n",
       "3   9001.234249   75.672000    2.1643       2300.0         1.7300   \n",
       "4  41631.090739   82.724390    3.2672        500.0         1.8800   \n",
       "\n",
       "   UrbanPopulation  UrbanPopulationPerc   Latitude   Longitude  \n",
       "0      823827650.0               59.152  35.000074  104.999927  \n",
       "1      268720071.0               82.256  39.783730 -100.445882  \n",
       "2      460295677.0               34.030  22.351115   78.667743  \n",
       "3      181335507.0               86.569 -10.333333  -53.200000  \n",
       "4       53870058.0               80.444  46.603354    1.888334  \n",
       "\n",
       "[5 rows x 24 columns]"
      ]
     },
     "execution_count": 48,
     "metadata": {},
     "output_type": "execute_result"
    }
   ],
   "source": [
    "covidandwb.head()"
   ]
  },
  {
   "cell_type": "markdown",
   "metadata": {},
   "source": [
    "## Representaciones gráficas de los datos"
   ]
  },
  {
   "cell_type": "markdown",
   "metadata": {},
   "source": [
    "### HeatMap"
   ]
  },
  {
   "cell_type": "code",
   "execution_count": 49,
   "metadata": {},
   "outputs": [],
   "source": [
    "map_hooray = folium.Map([40.4166359,-3.7059988], zoom_start=3)\n"
   ]
  },
  {
   "cell_type": "code",
   "execution_count": 50,
   "metadata": {},
   "outputs": [
    {
     "data": {
      "text/plain": [
       "<folium.plugins.heat_map.HeatMap at 0x199a394f9d0>"
      ]
     },
     "execution_count": 50,
     "metadata": {},
     "output_type": "execute_result"
    }
   ],
   "source": [
    "HeatMap(data=covidandwb[['Latitude','Longitude','TotalCases1M']].groupby(['Latitude','Longitude']).sum().reset_index().values.tolist()).add_to(map_hooray)\n"
   ]
  },
  {
   "cell_type": "code",
   "execution_count": 51,
   "metadata": {},
   "outputs": [
    {
     "data": {
      "text/html": [
       "<div style=\"width:100%;\"><div style=\"position:relative;width:100%;height:0;padding-bottom:60%;\"><span style=\"color:#565656\">Make this Notebook Trusted to load map: File -> Trust Notebook</span><iframe src=\"about:blank\" style=\"position:absolute;width:100%;height:100%;left:0;top:0;border:none !important;\" data-html=PCFET0NUWVBFIGh0bWw+CjxoZWFkPiAgICAKICAgIDxtZXRhIGh0dHAtZXF1aXY9ImNvbnRlbnQtdHlwZSIgY29udGVudD0idGV4dC9odG1sOyBjaGFyc2V0PVVURi04IiAvPgogICAgCiAgICAgICAgPHNjcmlwdD4KICAgICAgICAgICAgTF9OT19UT1VDSCA9IGZhbHNlOwogICAgICAgICAgICBMX0RJU0FCTEVfM0QgPSBmYWxzZTsKICAgICAgICA8L3NjcmlwdD4KICAgIAogICAgPHNjcmlwdCBzcmM9Imh0dHBzOi8vY2RuLmpzZGVsaXZyLm5ldC9ucG0vbGVhZmxldEAxLjYuMC9kaXN0L2xlYWZsZXQuanMiPjwvc2NyaXB0PgogICAgPHNjcmlwdCBzcmM9Imh0dHBzOi8vY29kZS5qcXVlcnkuY29tL2pxdWVyeS0xLjEyLjQubWluLmpzIj48L3NjcmlwdD4KICAgIDxzY3JpcHQgc3JjPSJodHRwczovL21heGNkbi5ib290c3RyYXBjZG4uY29tL2Jvb3RzdHJhcC8zLjIuMC9qcy9ib290c3RyYXAubWluLmpzIj48L3NjcmlwdD4KICAgIDxzY3JpcHQgc3JjPSJodHRwczovL2NkbmpzLmNsb3VkZmxhcmUuY29tL2FqYXgvbGlicy9MZWFmbGV0LmF3ZXNvbWUtbWFya2Vycy8yLjAuMi9sZWFmbGV0LmF3ZXNvbWUtbWFya2Vycy5qcyI+PC9zY3JpcHQ+CiAgICA8bGluayByZWw9InN0eWxlc2hlZXQiIGhyZWY9Imh0dHBzOi8vY2RuLmpzZGVsaXZyLm5ldC9ucG0vbGVhZmxldEAxLjYuMC9kaXN0L2xlYWZsZXQuY3NzIi8+CiAgICA8bGluayByZWw9InN0eWxlc2hlZXQiIGhyZWY9Imh0dHBzOi8vbWF4Y2RuLmJvb3RzdHJhcGNkbi5jb20vYm9vdHN0cmFwLzMuMi4wL2Nzcy9ib290c3RyYXAubWluLmNzcyIvPgogICAgPGxpbmsgcmVsPSJzdHlsZXNoZWV0IiBocmVmPSJodHRwczovL21heGNkbi5ib290c3RyYXBjZG4uY29tL2Jvb3RzdHJhcC8zLjIuMC9jc3MvYm9vdHN0cmFwLXRoZW1lLm1pbi5jc3MiLz4KICAgIDxsaW5rIHJlbD0ic3R5bGVzaGVldCIgaHJlZj0iaHR0cHM6Ly9tYXhjZG4uYm9vdHN0cmFwY2RuLmNvbS9mb250LWF3ZXNvbWUvNC42LjMvY3NzL2ZvbnQtYXdlc29tZS5taW4uY3NzIi8+CiAgICA8bGluayByZWw9InN0eWxlc2hlZXQiIGhyZWY9Imh0dHBzOi8vY2RuanMuY2xvdWRmbGFyZS5jb20vYWpheC9saWJzL0xlYWZsZXQuYXdlc29tZS1tYXJrZXJzLzIuMC4yL2xlYWZsZXQuYXdlc29tZS1tYXJrZXJzLmNzcyIvPgogICAgPGxpbmsgcmVsPSJzdHlsZXNoZWV0IiBocmVmPSJodHRwczovL3Jhd2Nkbi5naXRoYWNrLmNvbS9weXRob24tdmlzdWFsaXphdGlvbi9mb2xpdW0vbWFzdGVyL2ZvbGl1bS90ZW1wbGF0ZXMvbGVhZmxldC5hd2Vzb21lLnJvdGF0ZS5jc3MiLz4KICAgIDxzdHlsZT5odG1sLCBib2R5IHt3aWR0aDogMTAwJTtoZWlnaHQ6IDEwMCU7bWFyZ2luOiAwO3BhZGRpbmc6IDA7fTwvc3R5bGU+CiAgICA8c3R5bGU+I21hcCB7cG9zaXRpb246YWJzb2x1dGU7dG9wOjA7Ym90dG9tOjA7cmlnaHQ6MDtsZWZ0OjA7fTwvc3R5bGU+CiAgICAKICAgICAgICAgICAgPG1ldGEgbmFtZT0idmlld3BvcnQiIGNvbnRlbnQ9IndpZHRoPWRldmljZS13aWR0aCwKICAgICAgICAgICAgICAgIGluaXRpYWwtc2NhbGU9MS4wLCBtYXhpbXVtLXNjYWxlPTEuMCwgdXNlci1zY2FsYWJsZT1ubyIgLz4KICAgICAgICAgICAgPHN0eWxlPgogICAgICAgICAgICAgICAgI21hcF9kZGYyYTNhNGJhZGY0YzQ2YWRjMmZjNWFlZjUwNDg2ZiB7CiAgICAgICAgICAgICAgICAgICAgcG9zaXRpb246IHJlbGF0aXZlOwogICAgICAgICAgICAgICAgICAgIHdpZHRoOiAxMDAuMCU7CiAgICAgICAgICAgICAgICAgICAgaGVpZ2h0OiAxMDAuMCU7CiAgICAgICAgICAgICAgICAgICAgbGVmdDogMC4wJTsKICAgICAgICAgICAgICAgICAgICB0b3A6IDAuMCU7CiAgICAgICAgICAgICAgICB9CiAgICAgICAgICAgIDwvc3R5bGU+CiAgICAgICAgCiAgICA8c2NyaXB0IHNyYz0iaHR0cHM6Ly9sZWFmbGV0LmdpdGh1Yi5pby9MZWFmbGV0LmhlYXQvZGlzdC9sZWFmbGV0LWhlYXQuanMiPjwvc2NyaXB0Pgo8L2hlYWQ+Cjxib2R5PiAgICAKICAgIAogICAgICAgICAgICA8ZGl2IGNsYXNzPSJmb2xpdW0tbWFwIiBpZD0ibWFwX2RkZjJhM2E0YmFkZjRjNDZhZGMyZmM1YWVmNTA0ODZmIiA+PC9kaXY+CiAgICAgICAgCjwvYm9keT4KPHNjcmlwdD4gICAgCiAgICAKICAgICAgICAgICAgdmFyIG1hcF9kZGYyYTNhNGJhZGY0YzQ2YWRjMmZjNWFlZjUwNDg2ZiA9IEwubWFwKAogICAgICAgICAgICAgICAgIm1hcF9kZGYyYTNhNGJhZGY0YzQ2YWRjMmZjNWFlZjUwNDg2ZiIsCiAgICAgICAgICAgICAgICB7CiAgICAgICAgICAgICAgICAgICAgY2VudGVyOiBbNDAuNDE2NjM1OSwgLTMuNzA1OTk4OF0sCiAgICAgICAgICAgICAgICAgICAgY3JzOiBMLkNSUy5FUFNHMzg1NywKICAgICAgICAgICAgICAgICAgICB6b29tOiAzLAogICAgICAgICAgICAgICAgICAgIHpvb21Db250cm9sOiB0cnVlLAogICAgICAgICAgICAgICAgICAgIHByZWZlckNhbnZhczogZmFsc2UsCiAgICAgICAgICAgICAgICB9CiAgICAgICAgICAgICk7CgogICAgICAgICAgICAKCiAgICAgICAgCiAgICAKICAgICAgICAgICAgdmFyIHRpbGVfbGF5ZXJfOWNiYzg5NmE5ZjZmNGM4N2I5NjU4YmNmNzQ0YjM5YmMgPSBMLnRpbGVMYXllcigKICAgICAgICAgICAgICAgICJodHRwczovL3tzfS50aWxlLm9wZW5zdHJlZXRtYXAub3JnL3t6fS97eH0ve3l9LnBuZyIsCiAgICAgICAgICAgICAgICB7ImF0dHJpYnV0aW9uIjogIkRhdGEgYnkgXHUwMDI2Y29weTsgXHUwMDNjYSBocmVmPVwiaHR0cDovL29wZW5zdHJlZXRtYXAub3JnXCJcdTAwM2VPcGVuU3RyZWV0TWFwXHUwMDNjL2FcdTAwM2UsIHVuZGVyIFx1MDAzY2EgaHJlZj1cImh0dHA6Ly93d3cub3BlbnN0cmVldG1hcC5vcmcvY29weXJpZ2h0XCJcdTAwM2VPRGJMXHUwMDNjL2FcdTAwM2UuIiwgImRldGVjdFJldGluYSI6IGZhbHNlLCAibWF4TmF0aXZlWm9vbSI6IDE4LCAibWF4Wm9vbSI6IDE4LCAibWluWm9vbSI6IDAsICJub1dyYXAiOiBmYWxzZSwgIm9wYWNpdHkiOiAxLCAic3ViZG9tYWlucyI6ICJhYmMiLCAidG1zIjogZmFsc2V9CiAgICAgICAgICAgICkuYWRkVG8obWFwX2RkZjJhM2E0YmFkZjRjNDZhZGMyZmM1YWVmNTA0ODZmKTsKICAgICAgICAKICAgIAogICAgICAgICAgICB2YXIgaGVhdF9tYXBfYWZkODQ5YzU5ODEyNGRjNWI4YTk2MjJmMWVjOTUxMWQgPSBMLmhlYXRMYXllcigKICAgICAgICAgICAgICAgIFtbLTQxLjUwMDA4MzEsIDE3Mi44MzQ0MDc3LCAzOTQuMF0sIFstMzQuOTk2NDk2MywgLTY0Ljk2NzI4MTcsIDI2NTk4LjBdLCBbLTMyLjg3NTU1NDgsIC01Ni4wMjAxNTI1LCA5MzMuMF0sIFstMzEuNzYxMzM2NSwgLTcxLjMxODc2OTcsIDI2ODYzLjBdLCBbLTI5LjYwMzkyNjcsIDI4LjMzNTAxOTMsIDkxNC4wXSwgWy0yOC44MTY2MjM2LCAyNC45OTE2MzksIDEyMjY1LjBdLCBbLTI2LjU2MjQ4MDYsIDMxLjM5OTEzMTcsIDUxMTUuMF0sIFstMjQuNzc2MTA4NiwgMTM0Ljc1NSwgMTA3OS4wXSwgWy0yMy4zMTY1OTM1LCAtNTguMTY5MzQ0NSwgOTExMS4wXSwgWy0yMy4yMzM1NDk5LCAxNy4zMjMxMTA3LCA1MTAzLjBdLCBbLTIzLjE2ODE3ODIsIDI0LjU5Mjg3NDIsIDI4MDUuMF0sIFstMjAuNDU0Mjg4NTk5OTk5OTk4LCAxNjQuNTU2NjA1ODMwNzc5ODMsIDk4LjBdLCBbLTIwLjI3NTk0NTEsIDU3LjU3MDM1NjYsIDM1NS4wXSwgWy0xOS4zMDIyMzMsIDM0LjkxNDQ5NzcsIDQyMS4wXSwgWy0xOC45MjQ5NjA0LCA0Ni40NDE2NDIyLCA2MTMuMF0sIFstMTguNDU1NDk2MywgMjkuNzQ2ODQxNCwgNTY0LjBdLCBbLTE4LjEyMzk2OTYsIDE3OS4wMTIyNzM3LCAzOC4wXSwgWy0xNy4wNTY4Njk2LCAtNjQuOTkxMjI4NiwgMTIxMDMuMF0sIFstMTYuMDM0NDI0ODUsIC0xNDYuMDQ5MDkzMTA1OTUxNywgMzI5OTUuMF0sIFstMTQuNTE4NjIzOSwgMjcuNTU5OTE2NCwgOTAwLjBdLCBbLTEzLjI2ODcyMDQsIDMzLjkzMDE5NjMsIDMwOC4wXSwgWy0xMi4yMDQ1MTc2LCA0NC4yODMyOTY0LCA2MzIuMF0sIFstMTEuODc3NTc2OCwgMTcuNTY5MTI0MSwgMzU2LjBdLCBbLTEwLjMzMzMzMzMsIC01My4yLCAyNjIzOC4wXSwgWy04LjcwNTM5NDEsIDE1OS4xMDcxMDk3MzcyNDYyOCwgMTkuMF0sIFstOC41MTUxOTc5LCAxMjUuODM3NTc1NiwgMjMuMF0sIFstNi44Njk5Njk3LCAtNzUuMDQ1ODUxNSwgMjc1MjIuMF0sIFstNi41MjQ3MTIzLCAzNS43ODc4NDM4LCA4LjBdLCBbLTUuNjgxNjA2OSwgMTQ0LjI0ODkwODEsIDY2LjBdLCBbLTQuNjU3NDk3NywgNTUuNDU0MDE0NiwgMTU5My4wXSwgWy0zLjM2MzQzNTcsIDI5Ljg4NzA1NzUsIDUwLjBdLCBbLTIuNDgzMzgyNiwgMTE3Ljg5MDI4NTMsIDE1MzYuMF0sIFstMS45NjQ2NjMxLCAzMC4wNjQ0MzU4LCAzOTYuMF0sIFstMS4zMzk3NjY4LCAtNzkuMzY2Njk2NSwgOTY2Ny4wXSwgWy0wLjg5OTk2OTUsIDExLjY4OTk2OTksIDQwMTQuMF0sIFswLjg4NzU0OTgsIDYuOTY0ODcxOCwgNDM0NC4wXSwgWzEuMzQwODYzMDAwMDAwMDAwMSwgMTAzLjgzMDM5MTgyMjEyMDc5LCA5ODkzLjBdLCBbMS40NDE5NjgzLCAzOC40MzEzOTc1LCAxMDgxLjBdLCBbMS41MzMzNTU0LCAzMi4yMTY2NTc4LCAyODkuMF0sIFsxLjYxMzE3MiwgMTAuNTE3MDM1NywgMzU4OC4wXSwgWzIuODg5NDQzNCwgLTczLjc4Mzg5MiwgMjE2OTguMF0sIFs0LjE0MTMwMjUsIC01Ni4wNzcxMTg3LCA4ODcxLjBdLCBbNC41NjkzNzU0LCAxMDIuMjY1NjgyMywgMTA5MC4wXSwgWzQuNjEyNTUyMiwgMTMuMTUzNTgxMSwgODI2LjBdLCBbNC43MDY0MzUyLCA3My4zMjg3ODUzLCAyMTc0MC4wXSwgWzQuODQxNzA5NywgLTU4LjY0MTY4OTEsIDU0ODguMF0sIFs1Ljc0OTk3MjEsIC05LjM2NTg1MjQsIDI4Mi4wXSwgWzcuNTU1NDk0MiwgODAuNzEzNzg0NywgNTY4LjBdLCBbNy44Njk5NDMxLCAyOS42NjY3ODk3LCAyNjIuMF0sIFs4LjAzMDAyODQsIC0xLjA4MDAyNzEsIDE1NTQuMF0sIFs4LjM2NzY3NzEsIDQ5LjA4MzQxNiwgMjY0LjBdLCBbOC41NTk1NTksIC04MS4xMzA4NDM0LCAzMTM1Ni4wXSwgWzguNjQwMDM0OSwgLTExLjg0MDAyNjksIDI5NS4wXSwgWzguNzgwMDI2NSwgMS4wMTk5NzY1LCAyODguMF0sIFs4Ljk5OTU1NDksIDE2OC4wMDAyNTc1LCAxNy4wXSwgWzkuNTI5MzQ3MiwgMi4yNTg0NDA4LCAyMjQuMF0sIFs5LjYwMDAzNTksIDcuOTk5OTcyMSwgMzA1LjBdLCBbMTAuMjExNjcwMiwgMzguNjUyMTIwMywgODQ0LjBdLCBbMTAuMjczNTYzMywgLTg0LjA3MzkxMDIsIDIyMTY0LjBdLCBbMTAuNzIyNjIyNiwgLTEwLjcwODM1ODcsIDkzMC4wXSwgWzEwLjg2Nzc4NDUsIC02MC45ODIxMDY3LCA0MTE0LjBdLCBbMTEuODE0NTk2NiwgNDIuODQ1MzA2MSwgNTYyMC4wXSwgWzEyLjA3NTMwODMsIC0xLjY4ODAzMTQsIDEyMC4wXSwgWzEyLjEwMDAzNSwgLTE0LjkwMDAyMTQsIDEyMTcuMF0sIFsxMi4xMzYwMzc0LCAtNjEuNjkwNDA0NSwgMjY2LjBdLCBbMTIuNTAxMzYyOSwgLTY5Ljk2MTg0NzUsIDQyNTgyLjBdLCBbMTIuNjA5MDE1NywgLTg1LjI5MzY5MTEsIDgyOS4wXSwgWzEyLjc1MDM0ODYsIDEyMi43MzEyMTAxLCAzNTI2LjBdLCBbMTMuMTUwMDMzMSwgLTU5LjUyNTAzMDUsIDgzMS4wXSwgWzEzLjI5MDQwMjcsIDEwOC40MjY1MTEzLCAxMi4wXSwgWzEzLjUwNjYzOTQsIDEwNC44Njk0MjMsIDE3LjBdLCBbMTMuODAwMDM4MiwgLTg4LjkxNDA2ODMsIDUzMjIuMF0sIFsxNC40NzUwNjA3LCAtMTQuNDUyOTYxMiwgOTI2LjBdLCBbMTQuNTg0NDQ0NCwgMjkuNDkxNzY5MSwgMzE1LjBdLCBbMTQuODk3MTkyMSwgMTAwLjgzMjczLCA1NC4wXSwgWzE1LjI1NzI0MzIsIC04Ni4wNzU1MTQ1LCA5OTEwLjBdLCBbMTUuNjEzNDEzNywgMTkuMDE1NjE3MiwgOTEuMF0sIFsxNS42MzU2MDg4LCAtODkuODk4ODA4NywgNjA1NC4wXSwgWzE1Ljk1MDAzMTksIDM3Ljk5OTk2NjgsIDEzNS4wXSwgWzE2LjAwMDA1NTIsIC0yNC4wMDgzOTQ3LCAxNjIyMi4wXSwgWzE2LjM3MDAzNTksIC0yLjI5MDAyMzksIDE3Ny4wXSwgWzE2LjgyNTk3OTMsIC04OC43NjAwOTI3LCA5NDczLjBdLCBbMTcuMTc1MDQ5NSwgOTUuOTk5OTY1MiwgMTA0NC4wXSwgWzE3LjIyMzQ3MjEsIC02MS45NTU0NjA4LCAxMzI0LjBdLCBbMTcuNzM1NjIxNCwgOS4zMjM4NDMyLCA1MC4wXSwgWzE4LjExNTI5NTgsIC03Ny4xNTk4NDU0NjEwMTY4LCAzMTQ1LjBdLCBbMTguNDAyNDM5NSwgLTY0LjU2NjE2NDIsIDIzNDMuMF0sIFsxOS4wOTc0MDMxLCAtNzAuMzAyODAyNiwgMTI1NzUuMF0sIFsxOS4xMzk5OTUyLCAtNzIuMzU3MDk3MiwgNzk1LjBdLCBbMTkuNTQxNzIxMiwgLTgwLjU2NjcxMzIsIDM2NjcuMF0sIFsyMC4yNTQwMzgyLCAtOS4yMzk5MjYzLCAxNjUxLjBdLCBbMjEuMDAwMDI4NywgNTcuMDAzNjkwMSwgMjI2ODcuMF0sIFsyMi4zNTExMTQ4LCA3OC42Njc3NDI4LCA2MDQwLjBdLCBbMjIuNTAwMDQ4NSwgLTEwMC4wMDAwMzc1LCA3MjUyLjBdLCBbMjMuMDEzMTMzOCwgLTgwLjgzMjg3NDgsIDYzMS4wXSwgWzI0LjQ3Njg3ODMsIDkwLjI5MzI0MjYsIDI1MDYuMF0sIFsyNS4zMzM2OTg0LCA1MS4yMjk1Mjk1LCA0NzUwMC4wXSwgWzI1LjYyNDI2MTgsIDQyLjM1MjgzMjgsIDk5NzAuMF0sIFsyNi4xNTUxMjQ5LCA1MC41MzQ0NjA2LCA0ODAwMS4wXSwgWzI2LjgyMzQ0NzIsIDE4LjEyMzY3MjMsIDkzNTYuMF0sIFsyNy41NDk1MTEsIDkwLjUxMTkyNzMsIDQ2Mi4wXSwgWzI4LjAwMDAyNzIsIDIuOTk5OTgyNSwgMTM0OS4wXSwgWzI4LjEwODM5MjksIDg0LjA5MTcxMzksIDYyNDAuMF0sIFsyOS4yNzMzOTY0LCA0Ny40OTc5NDc2LCAzMDAxOC4wXSwgWzMwLjMzMDg0MDEsIDcxLjI0NzQ5OSwgMTUxOC4wXSwgWzMxLjE2NjcwNDksIDM2Ljk0MTYyOCwgODkxMS4wXSwgWzMxLjE3MjgyMDUsIC03LjMzNjI0ODIsIDYzNDkuMF0sIFszMS41MzEzMTEzLCAzNC44NjY3NjU0LCAzNDUwMi4wXSwgWzMyLjMwMTgyMTcsIC02NC43NjAzNTgzLCAzMzEyLjBdLCBbMzIuMzI5MzgwOSwgLTgzLjExMzczNjYsIDExNzQ0LjBdLCBbMzMuMDk1NTc5MywgNDQuMTc0OTc3NSwgMTE5ODguMF0sIFszMy43NjgwMDY1LCA2Ni4yMzg1MTM5LCAxMDY2LjBdLCBbMzMuODQzOTQwOCwgOS40MDAxMzgsIDU0MjYuMF0sIFszMy44NzUwNjI5LCAzNS44NDM0MDksIDEyNzgxLjBdLCBbMzMuOTY1Nzk1MTUsIC0xMjAuMDkxODk3MTExMDUyOTYsIDUxMjAuMF0sIFszNC45ODIzMDE4LCAzMy4xNDUxMjg1LCA0MjEzLjBdLCBbMzUuMDAwMDc0LCAxMDQuOTk5OTI3LCA2MC4wXSwgWzM1Ljg4ODU5OTMsIDE0LjQ0NzY5MTEsIDE0OTExLjBdLCBbMzYuMTA2NzQ2OTUsIC01LjMzNTI3NzE4MzQ4MzU2MSwgMjIwNTYuMF0sIFszNi41NzQ4NDQxLCAxMzkuMjM5NDE3OSwgODE0LjBdLCBbMzguNjI4MTczMywgNzAuODE1NjU0MSwgMTE2My4wXSwgWzM4Ljk1OTc1OTQsIDM0LjkyNDk2NTMsIDQ1NDIuMF0sIFszOC45OTUzNjgzLCAyMS45ODc3MTMyLCA0NTA3LjBdLCBbMzkuMzI2MjM0NSwgLTQuODM4MDY0OSwgMjkwMTYuMF0sIFszOS43ODM3MzA0LCAtMTAwLjQ0NTg4MjUsIDI5NTUxLjBdLCBbNDAuMDMzMjYyOSwgLTcuODg5NjI2MywgMTU0MDcuMF0sIFs0MC4zOTM2Mjk0LCA0Ny43ODcyNTA4LCA1ODUxLjBdLCBbNDAuNzY5NjI3MiwgNDQuNjczNjY0NiwgMzI3NjQuMF0sIFs0MS4wMDAwMjgsIDE5Ljk5OTk2MTksIDc3NTIuMF0sIFs0MS4zMjM3MywgNjMuOTUyODA5OCwgMjAxNS4wXSwgWzQxLjYxNzEyMTQsIDIxLjcxNjgzODcsIDE2ODQ2LjBdLCBbNDIuNTQwNzE2NywgMS41NzMyMDMzLCA2NTI1OC4wXSwgWzQyLjYwNzM5NzUsIDI1LjQ4NTY2MTcsIDkzMjAuMF0sIFs0Mi42Mzg0MjYxLCAxMi42NzQyOTcsIDEzMDc5LjBdLCBbNDIuOTg2ODg1MywgMTkuNTE4MDk5MiwgMzMxOTcuMF0sIFs0My43MzIzNDkyLCA3LjQyNzY4MzIsIDEwNDczLjBdLCBbNDMuOTQ1ODYyMywgMTIuNDU4MzA2LCAyOTI3My4wXSwgWzQ0LjAyNDMyMjg1MDAwMDAwNCwgMjEuMDc2NTc0MzMyMDk5MDIsIDYxMzEuMF0sIFs0NC4zMDUzNDc2LCAxNy41OTYxNDY3LCAxNjk4My4wXSwgWzQ1LjU2NDM0NDIsIDE3LjAxMTg5NTQsIDEzODA5LjBdLCBbNDUuODEzMzExMywgMTQuNDgwODM2OSwgMTg5NTUuMF0sIFs0NS45ODUyMTI5LCAyNC42ODU5MjI1LCAxMzkxNi4wXSwgWzQ2LjYwMzM1NCwgMS44ODgzMzM1LCAyMzYyNi4wXSwgWzQ2Ljc5ODU2MjQsIDguMjMxOTczNiwgMjIxNzIuMF0sIFs0Ni44MjUwMzg4LCAxMDMuODQ5OTczNiwgMTA3LjBdLCBbNDcuMTQxNjMwNywgOS41NTMxNTI3LCAxNzI2Ny4wXSwgWzQ3LjE4MTc1ODUsIDE5LjUwNjA5MzcsIDk0MjcuMF0sIFs0Ny4yMDAwMzM4LCAxMy4xOTk5NTksIDEzODYzLjBdLCBbNDcuMjI4NjA4NiwgNjUuMjA5MzE5NywgNjAzMy4wXSwgWzQ3LjI4Nzk2MDgsIDI4LjU2NzA5NDEsIDE5NDc3LjBdLCBbNDkuNDg3MTk2OCwgMzEuMjcxODMyMSwgOTYzOC4wXSwgWzQ5LjgxNTg2ODMsIDYuMTI5Njc1MSwgMzIzMjAuMF0sIFs1MC42NDAyODA5LCA0LjY2NjcxNDUsIDM5MDU1LjBdLCBbNTEuMDgzNDE5NiwgMTAuNDIzNDQ2OSwgNzEyMi4wXSwgWzUyLjIxNTkzMywgMTkuMTM0NDIyLCAxMTYxOC4wXSwgWzUyLjUwMDE2OTgsIDUuNzQ4MDgyMSwgMjIzNjUuMF0sIFs1Mi44NjUxOTYsIC03Ljk3OTQ1OTksIDEyODA3LjBdLCBbNTMuNDI1MDYwNSwgMjcuNjk3MTM1OCwgMTA4MjkuMF0sIFs1NC4yMzU4MTY3LCAtNC41MTQ1OTg3NDU2OTgyNTUsIDQxOTEuMF0sIFs1NS4zNTAwMDAzLCAyMy43NDk5OTk3LCA2Njc5LjBdLCBbNTUuNjcwMjQ5LCAxMC4zMzMzMjgzLCA4NzEzLjBdLCBbNTYuODQwNjQ5NCwgMjQuNzUzNzY0NSwgMzU5NC4wXSwgWzU4Ljc1MjM3NzgsIDI1LjMzMTkwNzgsIDQwMTkuMF0sIFs1OS42NzQ5NzEyLCAxNC41MjA4NTg0LCAxNDAwNy4wXSwgWzYwLjUwMDAyMDksIDkuMDk5OTcxNSwgNDE1NC4wXSwgWzYxLjA2NjY5MjIsIC0xMDcuOTkxNzA3MSwgNjU0My4wXSwgWzYzLjI0Njc3NzcsIDI1LjkyMDkxNjQsIDMwNTQuMF0sIFs2NC45ODQxODIxLCAtMTguMTA1OTAxMywgMTQ1ODcuMF0sIFs3Ny42MTkyMzQ5LCAtNDIuODEyNTk2NywgMjk5LjBdXSwKICAgICAgICAgICAgICAgIHsiYmx1ciI6IDE1LCAibWF4IjogMS4wLCAibWF4Wm9vbSI6IDE4LCAibWluT3BhY2l0eSI6IDAuNSwgInJhZGl1cyI6IDI1fQogICAgICAgICAgICApLmFkZFRvKG1hcF9kZGYyYTNhNGJhZGY0YzQ2YWRjMmZjNWFlZjUwNDg2Zik7CiAgICAgICAgCjwvc2NyaXB0Pg== onload=\"this.contentDocument.open();this.contentDocument.write(atob(this.getAttribute('data-html')));this.contentDocument.close();\" allowfullscreen webkitallowfullscreen mozallowfullscreen></iframe></div></div>"
      ],
      "text/plain": [
       "<folium.folium.Map at 0x199a38f8760>"
      ]
     },
     "execution_count": 51,
     "metadata": {},
     "output_type": "execute_result"
    }
   ],
   "source": [
    "map_hooray"
   ]
  },
  {
   "cell_type": "code",
   "execution_count": 52,
   "metadata": {},
   "outputs": [],
   "source": [
    "covidandwb.set_index('country', inplace=True, drop=True)\n"
   ]
  },
  {
   "cell_type": "markdown",
   "metadata": {},
   "source": [
    "### Plots of relations"
   ]
  },
  {
   "cell_type": "code",
   "execution_count": 53,
   "metadata": {},
   "outputs": [
    {
     "data": {
      "image/png": "[encoded data removed]",
      "text/plain": [
       "<Figure size 1440x1152 with 1 Axes>"
      ]
     },
     "metadata": {
      "needs_background": "light"
     },
     "output_type": "display_data"
    }
   ],
   "source": [
    "%matplotlib inline\n",
    "rcParams['figure.figsize'] = 20,16\n",
    "plt.scatter(covidandwb['DrsPer1k'], covidandwb['TotalDeaths1M'])\n",
    "plt.show()"
   ]
  },
  {
   "cell_type": "code",
   "execution_count": 54,
   "metadata": {},
   "outputs": [],
   "source": [
    "# Recreamos el campo UrbanPopulationPerc"
   ]
  },
  {
   "cell_type": "code",
   "execution_count": 55,
   "metadata": {
    "scrolled": false
   },
   "outputs": [
    {
     "data": {
      "text/plain": [
       "country\n",
       "China            59.152\n",
       "United States    82.256\n",
       "India            34.030\n",
       "Brazil           86.569\n",
       "France           80.444\n",
       "Name: UrbanPopulationPerc, dtype: float64"
      ]
     },
     "execution_count": 55,
     "metadata": {},
     "output_type": "execute_result"
    }
   ],
   "source": [
    "covidandwb['UrbanPopulationPerc'].head()"
   ]
  },
  {
   "cell_type": "code",
   "execution_count": 56,
   "metadata": {},
   "outputs": [],
   "source": [
    "def fx(x, y):\n",
    "    return x*100/y\n",
    "covidandwb['UrbanPopulationPerc'] = np.vectorize(fx)(covidandwb['UrbanPopulation'], covidandwb['Population'])"
   ]
  },
  {
   "cell_type": "code",
   "execution_count": 57,
   "metadata": {
    "scrolled": true
   },
   "outputs": [
    {
     "data": {
      "text/plain": [
       "country\n",
       "China            57.237132\n",
       "United States    81.019206\n",
       "India            33.242058\n",
       "Brazil           85.101410\n",
       "France           82.466305\n",
       "Name: UrbanPopulationPerc, dtype: float64"
      ]
     },
     "execution_count": 57,
     "metadata": {},
     "output_type": "execute_result"
    }
   ],
   "source": [
    "covidandwb['UrbanPopulationPerc'].head()"
   ]
  },
  {
   "cell_type": "code",
   "execution_count": 58,
   "metadata": {},
   "outputs": [],
   "source": [
    "# Exportamos el Datframe final a CSV"
   ]
  },
  {
   "cell_type": "code",
   "execution_count": 59,
   "metadata": {},
   "outputs": [],
   "source": [
    "csv_path='./covidandwb.csv'\n",
    "covidandwb.to_csv(csv_path, index=False, header=True)"
   ]
  },
  {
   "cell_type": "markdown",
   "metadata": {},
   "source": [
    "### Clusterización con KMeans"
   ]
  },
  {
   "cell_type": "code",
   "execution_count": 60,
   "metadata": {
    "scrolled": true
   },
   "outputs": [
    {
     "data": {
      "text/html": [
       "<div>\n",
       "<style scoped>\n",
       "    .dataframe tbody tr th:only-of-type {\n",
       "        vertical-align: middle;\n",
       "    }\n",
       "\n",
       "    .dataframe tbody tr th {\n",
       "        vertical-align: top;\n",
       "    }\n",
       "\n",
       "    .dataframe thead th {\n",
       "        text-align: right;\n",
       "    }\n",
       "</style>\n",
       "<table border=\"1\" class=\"dataframe\">\n",
       "  <thead>\n",
       "    <tr style=\"text-align: right;\">\n",
       "      <th></th>\n",
       "      <th>TotalDeaths1M</th>\n",
       "      <th>TotalTests1M</th>\n",
       "      <th>GDPperCap</th>\n",
       "      <th>LifeExpect</th>\n",
       "      <th>DrsPer1k</th>\n",
       "      <th>NewInfecHIV</th>\n",
       "      <th>FertilityRate</th>\n",
       "      <th>UrbanPopulation</th>\n",
       "    </tr>\n",
       "    <tr>\n",
       "      <th>country</th>\n",
       "      <th></th>\n",
       "      <th></th>\n",
       "      <th></th>\n",
       "      <th></th>\n",
       "      <th></th>\n",
       "      <th></th>\n",
       "      <th></th>\n",
       "      <th></th>\n",
       "    </tr>\n",
       "  </thead>\n",
       "  <tbody>\n",
       "    <tr>\n",
       "      <th>China</th>\n",
       "      <td>3.0</td>\n",
       "      <td>111163.0</td>\n",
       "      <td>9976.676822</td>\n",
       "      <td>76.704000</td>\n",
       "      <td>0.9186</td>\n",
       "      <td>1050.0</td>\n",
       "      <td>1.6900</td>\n",
       "      <td>823827650.0</td>\n",
       "    </tr>\n",
       "    <tr>\n",
       "      <th>United States</th>\n",
       "      <td>723.0</td>\n",
       "      <td>458433.0</td>\n",
       "      <td>62840.020239</td>\n",
       "      <td>78.539024</td>\n",
       "      <td>1.9357</td>\n",
       "      <td>33000.0</td>\n",
       "      <td>1.7295</td>\n",
       "      <td>268720071.0</td>\n",
       "    </tr>\n",
       "    <tr>\n",
       "      <th>India</th>\n",
       "      <td>90.0</td>\n",
       "      <td>81607.0</td>\n",
       "      <td>2005.863005</td>\n",
       "      <td>69.416000</td>\n",
       "      <td>0.8571</td>\n",
       "      <td>1050.0</td>\n",
       "      <td>2.2220</td>\n",
       "      <td>460295677.0</td>\n",
       "    </tr>\n",
       "    <tr>\n",
       "      <th>Brazil</th>\n",
       "      <td>756.0</td>\n",
       "      <td>102777.0</td>\n",
       "      <td>9001.234249</td>\n",
       "      <td>75.672000</td>\n",
       "      <td>2.1643</td>\n",
       "      <td>2300.0</td>\n",
       "      <td>1.7300</td>\n",
       "      <td>181335507.0</td>\n",
       "    </tr>\n",
       "    <tr>\n",
       "      <th>France</th>\n",
       "      <td>592.0</td>\n",
       "      <td>257477.0</td>\n",
       "      <td>41631.090739</td>\n",
       "      <td>82.724390</td>\n",
       "      <td>3.2672</td>\n",
       "      <td>500.0</td>\n",
       "      <td>1.8800</td>\n",
       "      <td>53870058.0</td>\n",
       "    </tr>\n",
       "  </tbody>\n",
       "</table>\n",
       "</div>"
      ],
      "text/plain": [
       "               TotalDeaths1M  TotalTests1M     GDPperCap  LifeExpect  \\\n",
       "country                                                                \n",
       "China                    3.0      111163.0   9976.676822   76.704000   \n",
       "United States          723.0      458433.0  62840.020239   78.539024   \n",
       "India                   90.0       81607.0   2005.863005   69.416000   \n",
       "Brazil                 756.0      102777.0   9001.234249   75.672000   \n",
       "France                 592.0      257477.0  41631.090739   82.724390   \n",
       "\n",
       "               DrsPer1k  NewInfecHIV  FertilityRate  UrbanPopulation  \n",
       "country                                                               \n",
       "China            0.9186       1050.0         1.6900      823827650.0  \n",
       "United States    1.9357      33000.0         1.7295      268720071.0  \n",
       "India            0.8571       1050.0         2.2220      460295677.0  \n",
       "Brazil           2.1643       2300.0         1.7300      181335507.0  \n",
       "France           3.2672        500.0         1.8800       53870058.0  "
      ]
     },
     "execution_count": 60,
     "metadata": {},
     "output_type": "execute_result"
    }
   ],
   "source": [
    "covidkmeans_cols=['TotalDeaths1M', 'TotalTests1M', 'GDPperCap', 'LifeExpect','DrsPer1k', 'NewInfecHIV', 'FertilityRate',\n",
    "       'UrbanPopulation']\n",
    "covidkmeans=covidandwb[covidkmeans_cols]\n",
    "covidkmeans.head()"
   ]
  },
  {
   "cell_type": "code",
   "execution_count": 61,
   "metadata": {},
   "outputs": [],
   "source": [
    "scaler = preprocessing.MinMaxScaler()\n",
    "features_normal = scaler.fit_transform(covidkmeans)"
   ]
  },
  {
   "cell_type": "code",
   "execution_count": 62,
   "metadata": {},
   "outputs": [
    {
     "data": {
      "text/plain": [
       "array([[2.36070239e-03, 5.43155082e-02, 5.23015077e-02, ...,\n",
       "        5.00263296e-03, 9.52710896e-02, 1.00000000e+00],\n",
       "       [5.84451703e-01, 2.24249349e-01, 3.37191152e-01, ...,\n",
       "        1.73249078e-01, 1.02113286e-01, 3.26180371e-01],\n",
       "       [7.26966983e-02, 3.98525123e-02, 9.34542203e-03, ...,\n",
       "        5.00263296e-03, 1.87424216e-01, 5.58725212e-01],\n",
       "       ...,\n",
       "       [1.22821201e-01, 9.46446397e-02, 2.92088828e-01, ...,\n",
       "        5.00263296e-03, 1.48969340e-01, 5.24397124e-05],\n",
       "       [3.97762183e-03, 0.00000000e+00, 1.00558641e-02, ...,\n",
       "        2.63296472e-03, 5.65217391e-01, 1.81605931e-04],\n",
       "       [3.97762183e-03, 2.68252461e-02, 1.89505462e-02, ...,\n",
       "        2.63296472e-03, 1.43772735e-01, 4.80200695e-05]])"
      ]
     },
     "execution_count": 62,
     "metadata": {},
     "output_type": "execute_result"
    }
   ],
   "source": [
    "features_normal"
   ]
  },
  {
   "cell_type": "code",
   "execution_count": 63,
   "metadata": {},
   "outputs": [
    {
     "data": {
      "image/png": "[encoded data removed]",
      "text/plain": [
       "<Figure size 1440x1152 with 1 Axes>"
      ]
     },
     "metadata": {
      "needs_background": "light"
     },
     "output_type": "display_data"
    }
   ],
   "source": [
    "inertia = []\n",
    "K = range(1,10)\n",
    "for k in K:\n",
    "    kmeanModel = KMeans(n_clusters=k).fit(features_normal)\n",
    "    kmeanModel.fit(features_normal)\n",
    "    inertia.append(kmeanModel.inertia_)\n",
    "plt.plot(K, inertia, 'bx-')\n",
    "plt.xlabel('k')\n",
    "plt.ylabel('Inertia')\n",
    "plt.show()"
   ]
  },
  {
   "cell_type": "code",
   "execution_count": 64,
   "metadata": {},
   "outputs": [],
   "source": [
    "kmeans = KMeans(n_clusters=5).fit(features_normal)"
   ]
  },
  {
   "cell_type": "code",
   "execution_count": 65,
   "metadata": {
    "scrolled": true
   },
   "outputs": [
    {
     "data": {
      "text/html": [
       "<div>\n",
       "<style scoped>\n",
       "    .dataframe tbody tr th:only-of-type {\n",
       "        vertical-align: middle;\n",
       "    }\n",
       "\n",
       "    .dataframe tbody tr th {\n",
       "        vertical-align: top;\n",
       "    }\n",
       "\n",
       "    .dataframe thead th {\n",
       "        text-align: right;\n",
       "    }\n",
       "</style>\n",
       "<table border=\"1\" class=\"dataframe\">\n",
       "  <thead>\n",
       "    <tr style=\"text-align: right;\">\n",
       "      <th></th>\n",
       "      <th>TotalDeaths1M</th>\n",
       "      <th>TotalTests1M</th>\n",
       "      <th>GDPperCap</th>\n",
       "      <th>LifeExpect</th>\n",
       "      <th>DrsPer1k</th>\n",
       "      <th>NewInfecHIV</th>\n",
       "      <th>FertilityRate</th>\n",
       "      <th>UrbanPopulation</th>\n",
       "    </tr>\n",
       "    <tr>\n",
       "      <th>country</th>\n",
       "      <th></th>\n",
       "      <th></th>\n",
       "      <th></th>\n",
       "      <th></th>\n",
       "      <th></th>\n",
       "      <th></th>\n",
       "      <th></th>\n",
       "      <th></th>\n",
       "    </tr>\n",
       "  </thead>\n",
       "  <tbody>\n",
       "    <tr>\n",
       "      <th>China</th>\n",
       "      <td>3.0</td>\n",
       "      <td>111163.0</td>\n",
       "      <td>9976.676822</td>\n",
       "      <td>76.704000</td>\n",
       "      <td>0.9186</td>\n",
       "      <td>1050.0</td>\n",
       "      <td>1.6900</td>\n",
       "      <td>823827650.0</td>\n",
       "    </tr>\n",
       "    <tr>\n",
       "      <th>United States</th>\n",
       "      <td>723.0</td>\n",
       "      <td>458433.0</td>\n",
       "      <td>62840.020239</td>\n",
       "      <td>78.539024</td>\n",
       "      <td>1.9357</td>\n",
       "      <td>33000.0</td>\n",
       "      <td>1.7295</td>\n",
       "      <td>268720071.0</td>\n",
       "    </tr>\n",
       "    <tr>\n",
       "      <th>India</th>\n",
       "      <td>90.0</td>\n",
       "      <td>81607.0</td>\n",
       "      <td>2005.863005</td>\n",
       "      <td>69.416000</td>\n",
       "      <td>0.8571</td>\n",
       "      <td>1050.0</td>\n",
       "      <td>2.2220</td>\n",
       "      <td>460295677.0</td>\n",
       "    </tr>\n",
       "    <tr>\n",
       "      <th>Brazil</th>\n",
       "      <td>756.0</td>\n",
       "      <td>102777.0</td>\n",
       "      <td>9001.234249</td>\n",
       "      <td>75.672000</td>\n",
       "      <td>2.1643</td>\n",
       "      <td>2300.0</td>\n",
       "      <td>1.7300</td>\n",
       "      <td>181335507.0</td>\n",
       "    </tr>\n",
       "    <tr>\n",
       "      <th>France</th>\n",
       "      <td>592.0</td>\n",
       "      <td>257477.0</td>\n",
       "      <td>41631.090739</td>\n",
       "      <td>82.724390</td>\n",
       "      <td>3.2672</td>\n",
       "      <td>500.0</td>\n",
       "      <td>1.8800</td>\n",
       "      <td>53870058.0</td>\n",
       "    </tr>\n",
       "  </tbody>\n",
       "</table>\n",
       "</div>"
      ],
      "text/plain": [
       "               TotalDeaths1M  TotalTests1M     GDPperCap  LifeExpect  \\\n",
       "country                                                                \n",
       "China                    3.0      111163.0   9976.676822   76.704000   \n",
       "United States          723.0      458433.0  62840.020239   78.539024   \n",
       "India                   90.0       81607.0   2005.863005   69.416000   \n",
       "Brazil                 756.0      102777.0   9001.234249   75.672000   \n",
       "France                 592.0      257477.0  41631.090739   82.724390   \n",
       "\n",
       "               DrsPer1k  NewInfecHIV  FertilityRate  UrbanPopulation  \n",
       "country                                                               \n",
       "China            0.9186       1050.0         1.6900      823827650.0  \n",
       "United States    1.9357      33000.0         1.7295      268720071.0  \n",
       "India            0.8571       1050.0         2.2220      460295677.0  \n",
       "Brazil           2.1643       2300.0         1.7300      181335507.0  \n",
       "France           3.2672        500.0         1.8800       53870058.0  "
      ]
     },
     "execution_count": 65,
     "metadata": {},
     "output_type": "execute_result"
    }
   ],
   "source": [
    "covidkmeans.head()"
   ]
  },
  {
   "cell_type": "code",
   "execution_count": 66,
   "metadata": {},
   "outputs": [],
   "source": [
    "labels = pd.DataFrame(kmeans.labels_) #This is where the label output of the KMeans we just ran lives. Make it a dataframe so we can concatenate back to the original data\n",
    "covidkmeans=covidkmeans.assign(Country=covidkmeans.index.get_level_values('country'))\n",
    "covidkmeans.reset_index(drop=True, inplace=True)\n",
    "labeledcovidkmeans = pd.concat((covidkmeans,labels), axis=1)\n",
    "labeledcovidkmeans = labeledcovidkmeans.rename({0:'labels'},axis=1)"
   ]
  },
  {
   "cell_type": "code",
   "execution_count": 67,
   "metadata": {
    "scrolled": false
   },
   "outputs": [
    {
     "data": {
      "text/html": [
       "<div>\n",
       "<style scoped>\n",
       "    .dataframe tbody tr th:only-of-type {\n",
       "        vertical-align: middle;\n",
       "    }\n",
       "\n",
       "    .dataframe tbody tr th {\n",
       "        vertical-align: top;\n",
       "    }\n",
       "\n",
       "    .dataframe thead th {\n",
       "        text-align: right;\n",
       "    }\n",
       "</style>\n",
       "<table border=\"1\" class=\"dataframe\">\n",
       "  <thead>\n",
       "    <tr style=\"text-align: right;\">\n",
       "      <th></th>\n",
       "      <th>TotalDeaths1M</th>\n",
       "      <th>TotalTests1M</th>\n",
       "      <th>GDPperCap</th>\n",
       "      <th>LifeExpect</th>\n",
       "      <th>DrsPer1k</th>\n",
       "      <th>NewInfecHIV</th>\n",
       "      <th>FertilityRate</th>\n",
       "      <th>UrbanPopulation</th>\n",
       "      <th>Country</th>\n",
       "      <th>labels</th>\n",
       "    </tr>\n",
       "  </thead>\n",
       "  <tbody>\n",
       "    <tr>\n",
       "      <th>0</th>\n",
       "      <td>3.0</td>\n",
       "      <td>111163.0</td>\n",
       "      <td>9976.676822</td>\n",
       "      <td>76.704000</td>\n",
       "      <td>0.9186</td>\n",
       "      <td>1050.0</td>\n",
       "      <td>1.6900</td>\n",
       "      <td>823827650.0</td>\n",
       "      <td>China</td>\n",
       "      <td>3</td>\n",
       "    </tr>\n",
       "    <tr>\n",
       "      <th>1</th>\n",
       "      <td>723.0</td>\n",
       "      <td>458433.0</td>\n",
       "      <td>62840.020239</td>\n",
       "      <td>78.539024</td>\n",
       "      <td>1.9357</td>\n",
       "      <td>33000.0</td>\n",
       "      <td>1.7295</td>\n",
       "      <td>268720071.0</td>\n",
       "      <td>United States</td>\n",
       "      <td>2</td>\n",
       "    </tr>\n",
       "    <tr>\n",
       "      <th>2</th>\n",
       "      <td>90.0</td>\n",
       "      <td>81607.0</td>\n",
       "      <td>2005.863005</td>\n",
       "      <td>69.416000</td>\n",
       "      <td>0.8571</td>\n",
       "      <td>1050.0</td>\n",
       "      <td>2.2220</td>\n",
       "      <td>460295677.0</td>\n",
       "      <td>India</td>\n",
       "      <td>3</td>\n",
       "    </tr>\n",
       "    <tr>\n",
       "      <th>3</th>\n",
       "      <td>756.0</td>\n",
       "      <td>102777.0</td>\n",
       "      <td>9001.234249</td>\n",
       "      <td>75.672000</td>\n",
       "      <td>2.1643</td>\n",
       "      <td>2300.0</td>\n",
       "      <td>1.7300</td>\n",
       "      <td>181335507.0</td>\n",
       "      <td>Brazil</td>\n",
       "      <td>2</td>\n",
       "    </tr>\n",
       "    <tr>\n",
       "      <th>4</th>\n",
       "      <td>592.0</td>\n",
       "      <td>257477.0</td>\n",
       "      <td>41631.090739</td>\n",
       "      <td>82.724390</td>\n",
       "      <td>3.2672</td>\n",
       "      <td>500.0</td>\n",
       "      <td>1.8800</td>\n",
       "      <td>53870058.0</td>\n",
       "      <td>France</td>\n",
       "      <td>2</td>\n",
       "    </tr>\n",
       "  </tbody>\n",
       "</table>\n",
       "</div>"
      ],
      "text/plain": [
       "   TotalDeaths1M  TotalTests1M     GDPperCap  LifeExpect  DrsPer1k  \\\n",
       "0            3.0      111163.0   9976.676822   76.704000    0.9186   \n",
       "1          723.0      458433.0  62840.020239   78.539024    1.9357   \n",
       "2           90.0       81607.0   2005.863005   69.416000    0.8571   \n",
       "3          756.0      102777.0   9001.234249   75.672000    2.1643   \n",
       "4          592.0      257477.0  41631.090739   82.724390    3.2672   \n",
       "\n",
       "   NewInfecHIV  FertilityRate  UrbanPopulation        Country  labels  \n",
       "0       1050.0         1.6900      823827650.0          China       3  \n",
       "1      33000.0         1.7295      268720071.0  United States       2  \n",
       "2       1050.0         2.2220      460295677.0          India       3  \n",
       "3       2300.0         1.7300      181335507.0         Brazil       2  \n",
       "4        500.0         1.8800       53870058.0         France       2  "
      ]
     },
     "execution_count": 67,
     "metadata": {},
     "output_type": "execute_result"
    }
   ],
   "source": [
    "labeledcovidkmeans.head()"
   ]
  },
  {
   "cell_type": "code",
   "execution_count": 68,
   "metadata": {
    "scrolled": false
   },
   "outputs": [
    {
     "name": "stderr",
     "output_type": "stream",
     "text": [
      "C:\\ProgramData\\Anaconda3\\lib\\site-packages\\seaborn\\distributions.py:369: UserWarning: Default bandwidth for data is 0; skipping density estimation.\n",
      "  warnings.warn(msg, UserWarning)\n",
      "C:\\ProgramData\\Anaconda3\\lib\\site-packages\\seaborn\\distributions.py:369: UserWarning: Default bandwidth for data is 0; skipping density estimation.\n",
      "  warnings.warn(msg, UserWarning)\n",
      "C:\\ProgramData\\Anaconda3\\lib\\site-packages\\seaborn\\distributions.py:369: UserWarning: Default bandwidth for data is 0; skipping density estimation.\n",
      "  warnings.warn(msg, UserWarning)\n"
     ]
    },
    {
     "data": {
      "text/plain": [
       "<seaborn.axisgrid.PairGrid at 0x199a41112b0>"
      ]
     },
     "execution_count": 68,
     "metadata": {},
     "output_type": "execute_result"
    },
    {
     "data": {
      "image/png": "[encoded data removed]",
      "text/plain": [
       "<Figure size 1482.38x1440 with 72 Axes>"
      ]
     },
     "metadata": {
      "needs_background": "light"
     },
     "output_type": "display_data"
    }
   ],
   "source": [
    "sns.pairplot(labeledcovidkmeans,hue='labels')"
   ]
  },
  {
   "cell_type": "code",
   "execution_count": 69,
   "metadata": {
    "scrolled": false
   },
   "outputs": [
    {
     "data": {
      "text/plain": [
       "<seaborn.axisgrid.FacetGrid at 0x199a8f2b190>"
      ]
     },
     "execution_count": 69,
     "metadata": {},
     "output_type": "execute_result"
    },
    {
     "data": {
      "image/png": "[encoded data removed]",
      "text/plain": [
       "<Figure size 618.375x576 with 1 Axes>"
      ]
     },
     "metadata": {
      "needs_background": "light"
     },
     "output_type": "display_data"
    }
   ],
   "source": [
    "sns.lmplot(x='FertilityRate',y='TotalDeaths1M',data=labeledcovidkmeans,hue='labels',fit_reg=False, height=8)"
   ]
  },
  {
   "cell_type": "code",
   "execution_count": 70,
   "metadata": {},
   "outputs": [
    {
     "data": {
      "text/plain": [
       "<seaborn.axisgrid.FacetGrid at 0x199a6a40880>"
      ]
     },
     "execution_count": 70,
     "metadata": {},
     "output_type": "execute_result"
    },
    {
     "data": {
      "image/png": "[encoded data removed]",
      "text/plain": [
       "<Figure size 618.375x576 with 1 Axes>"
      ]
     },
     "metadata": {
      "needs_background": "light"
     },
     "output_type": "display_data"
    }
   ],
   "source": [
    "sns.lmplot(x='NewInfecHIV',y='TotalDeaths1M',data=labeledcovidkmeans,hue='labels',fit_reg=False,height=8)"
   ]
  },
  {
   "cell_type": "code",
   "execution_count": 71,
   "metadata": {},
   "outputs": [
    {
     "data": {
      "text/plain": [
       "<seaborn.axisgrid.FacetGrid at 0x199aa40d9a0>"
      ]
     },
     "execution_count": 71,
     "metadata": {},
     "output_type": "execute_result"
    },
    {
     "data": {
      "image/png": "[encoded data removed]",
      "text/plain": [
       "<Figure size 618.375x576 with 1 Axes>"
      ]
     },
     "metadata": {
      "needs_background": "light"
     },
     "output_type": "display_data"
    }
   ],
   "source": [
    "sns.lmplot(x='LifeExpect',y='TotalDeaths1M',data=labeledcovidkmeans,hue='labels',fit_reg=False, height=8)"
   ]
  },
  {
   "cell_type": "code",
   "execution_count": 72,
   "metadata": {},
   "outputs": [
    {
     "data": {
      "text/plain": [
       "<seaborn.axisgrid.FacetGrid at 0x199aa48c640>"
      ]
     },
     "execution_count": 72,
     "metadata": {},
     "output_type": "execute_result"
    },
    {
     "data": {
      "image/png": "[encoded data removed]",
      "text/plain": [
       "<Figure size 618.375x576 with 1 Axes>"
      ]
     },
     "metadata": {
      "needs_background": "light"
     },
     "output_type": "display_data"
    }
   ],
   "source": [
    "sns.lmplot(x='TotalTests1M',y='TotalDeaths1M',data=labeledcovidkmeans,hue='labels',fit_reg=False, height=8)"
   ]
  },
  {
   "cell_type": "markdown",
   "metadata": {},
   "source": [
    "Finalmente, atendiendo a los clustering obtenidos por el modelo, se detecta que hay un grupo de países donde los parámetros parecen indicar que son países subdesarrollados, en los cuales se detectan un menor número de muertes debido a la pandemia de la COVID-19"
   ]
  },
  {
   "cell_type": "markdown",
   "metadata": {},
   "source": [
    "\\clearpage"
   ]
  },
  {
   "cell_type": "markdown",
   "metadata": {},
   "source": [
    "| Contribuciones                         | Firma |\n",
    "|----------------------------------------|-------|\n",
    "| Investigación Inicial                  | \\includegraphics[width=3cm]{FirmaFran.jpg} \\includegraphics[width=3cm]{EnriqueOterFirma.jpg}|\n",
    "| Análisis de herramientas Scrappping    |\\includegraphics[width=3cm]{FirmaFran.jpg} \\includegraphics[width=3cm]{EnriqueOterFirma.jpg}|\n",
    "| Codigo python Scrapping y app          |\\includegraphics[width=3cm]{FirmaFran.jpg} \\includegraphics[width=3cm]{EnriqueOterFirma.jpg}|\n",
    "| Investigación de Indicadores WorldBank |\\includegraphics[width=3cm]{FirmaFran.jpg} \\includegraphics[width=3cm]{EnriqueOterFirma.jpg}|\n",
    "| Obtención de datos Covid y WorldBank   |\\includegraphics[width=3cm]{FirmaFran.jpg} \\includegraphics[width=3cm]{EnriqueOterFirma.jpg}|\n",
    "| Procesado y limpieza de Datos          |\\includegraphics[width=3cm]{FirmaFran.jpg} \\includegraphics[width=3cm]{EnriqueOterFirma.jpg}|\n",
    "| Análisis ejemplo Clustering            |\\includegraphics[width=3cm]{FirmaFran.jpg} \\includegraphics[width=3cm]{EnriqueOterFirma.jpg}|\n",
    "| Export de DataSet                      |\\includegraphics[width=3cm]{FirmaFran.jpg} \\includegraphics[width=3cm]{EnriqueOterFirma.jpg}|\n",
    "| Documentacion                          |\\includegraphics[width=3cm]{FirmaFran.jpg} \\includegraphics[width=3cm]{EnriqueOterFirma.jpg}|"
   ]
  }
 ],
 "metadata": {
  "kernelspec": {
   "display_name": "Python 3",
   "language": "python",
   "name": "python3"
  },
  "language_info": {
   "codemirror_mode": {
    "name": "ipython",
    "version": 3
   },
   "file_extension": ".py",
   "mimetype": "text/x-python",
   "name": "python",
   "nbconvert_exporter": "python",
   "pygments_lexer": "ipython3",
   "version": "3.8.3"
  }
 },
 "nbformat": 4,
 "nbformat_minor": 4
}
